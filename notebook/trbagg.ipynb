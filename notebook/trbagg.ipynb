{
 "cells": [
  {
   "cell_type": "code",
   "execution_count": 1,
   "metadata": {},
   "outputs": [
    {
     "data": {
      "text/plain": [
       "'/work'"
      ]
     },
     "execution_count": 1,
     "metadata": {},
     "output_type": "execute_result"
    }
   ],
   "source": [
    "import os\n",
    "os.chdir('../')\n",
    "os.getcwd()"
   ]
  },
  {
   "cell_type": "code",
   "execution_count": 2,
   "metadata": {},
   "outputs": [],
   "source": [
    "import pandas as pd\n",
    "import numpy as np\n",
    "from sklearn.preprocessing import LabelEncoder"
   ]
  },
  {
   "cell_type": "markdown",
   "metadata": {},
   "source": [
    "# mushroom"
   ]
  },
  {
   "cell_type": "markdown",
   "metadata": {},
   "source": [
    "## 準備"
   ]
  },
  {
   "cell_type": "code",
   "execution_count": 3,
   "metadata": {},
   "outputs": [],
   "source": [
    "from process.preprocess.get_dataset import get_dataset\n",
    "from process.mainprocess.split_data import split_data"
   ]
  },
  {
   "cell_type": "code",
   "execution_count": 4,
   "metadata": {},
   "outputs": [],
   "source": [
    "options_classifier = {\n",
    "    \"experiments\": {\n",
    "        \"n_targets\": 25,\n",
    "        \"source_sampling\": False\n",
    "    },\n",
    "    \n",
    "    \"datasets\": {\n",
    "        \"source\":\"uci\",\n",
    "        \"dataset_name\": \"mushroom\",\n",
    "        \"task\": \"classification\",\n",
    "        \"split_feature_name\": \"stalk_shape\",\n",
    "        \"y_feature\": \"Attributes\",\n",
    "        \"split_feature\": \"stalk_shape\",\n",
    "        \"target_domain\": None,\n",
    "        \"metric\": \"auc\"\n",
    "    }\n",
    "}\n",
    "\n",
    "target_domain = \"t\"\n",
    "seed = 1"
   ]
  },
  {
   "cell_type": "code",
   "execution_count": 5,
   "metadata": {},
   "outputs": [
    {
     "data": {
      "text/html": [
       "<div>\n",
       "<style scoped>\n",
       "    .dataframe tbody tr th:only-of-type {\n",
       "        vertical-align: middle;\n",
       "    }\n",
       "\n",
       "    .dataframe tbody tr th {\n",
       "        vertical-align: top;\n",
       "    }\n",
       "\n",
       "    .dataframe thead th {\n",
       "        text-align: right;\n",
       "    }\n",
       "</style>\n",
       "<table border=\"1\" class=\"dataframe\">\n",
       "  <thead>\n",
       "    <tr style=\"text-align: right;\">\n",
       "      <th></th>\n",
       "      <th>Attributes</th>\n",
       "      <th>cap_shape</th>\n",
       "      <th>cap_surface</th>\n",
       "      <th>cap_color</th>\n",
       "      <th>bruises</th>\n",
       "      <th>odor</th>\n",
       "      <th>gill_attachment</th>\n",
       "      <th>gill_spacing</th>\n",
       "      <th>gill_size</th>\n",
       "      <th>gill_color</th>\n",
       "      <th>...</th>\n",
       "      <th>stalk_surface_below_ring</th>\n",
       "      <th>stalk_color_above_ring</th>\n",
       "      <th>stalk_color_below_ring</th>\n",
       "      <th>veil_type</th>\n",
       "      <th>veil_color</th>\n",
       "      <th>ring_number</th>\n",
       "      <th>ring_type</th>\n",
       "      <th>spore_print_color</th>\n",
       "      <th>population</th>\n",
       "      <th>habitat</th>\n",
       "    </tr>\n",
       "  </thead>\n",
       "  <tbody>\n",
       "    <tr>\n",
       "      <th>0</th>\n",
       "      <td>p</td>\n",
       "      <td>5.0</td>\n",
       "      <td>2.0</td>\n",
       "      <td>4.0</td>\n",
       "      <td>1.0</td>\n",
       "      <td>6.0</td>\n",
       "      <td>1.0</td>\n",
       "      <td>0.0</td>\n",
       "      <td>1.0</td>\n",
       "      <td>4.0</td>\n",
       "      <td>...</td>\n",
       "      <td>2.0</td>\n",
       "      <td>7.0</td>\n",
       "      <td>7.0</td>\n",
       "      <td>0.0</td>\n",
       "      <td>2.0</td>\n",
       "      <td>1.0</td>\n",
       "      <td>4.0</td>\n",
       "      <td>2.0</td>\n",
       "      <td>3.0</td>\n",
       "      <td>5.0</td>\n",
       "    </tr>\n",
       "    <tr>\n",
       "      <th>1</th>\n",
       "      <td>e</td>\n",
       "      <td>5.0</td>\n",
       "      <td>2.0</td>\n",
       "      <td>9.0</td>\n",
       "      <td>1.0</td>\n",
       "      <td>0.0</td>\n",
       "      <td>1.0</td>\n",
       "      <td>0.0</td>\n",
       "      <td>0.0</td>\n",
       "      <td>4.0</td>\n",
       "      <td>...</td>\n",
       "      <td>2.0</td>\n",
       "      <td>7.0</td>\n",
       "      <td>7.0</td>\n",
       "      <td>0.0</td>\n",
       "      <td>2.0</td>\n",
       "      <td>1.0</td>\n",
       "      <td>4.0</td>\n",
       "      <td>3.0</td>\n",
       "      <td>2.0</td>\n",
       "      <td>1.0</td>\n",
       "    </tr>\n",
       "    <tr>\n",
       "      <th>2</th>\n",
       "      <td>e</td>\n",
       "      <td>0.0</td>\n",
       "      <td>2.0</td>\n",
       "      <td>8.0</td>\n",
       "      <td>1.0</td>\n",
       "      <td>3.0</td>\n",
       "      <td>1.0</td>\n",
       "      <td>0.0</td>\n",
       "      <td>0.0</td>\n",
       "      <td>5.0</td>\n",
       "      <td>...</td>\n",
       "      <td>2.0</td>\n",
       "      <td>7.0</td>\n",
       "      <td>7.0</td>\n",
       "      <td>0.0</td>\n",
       "      <td>2.0</td>\n",
       "      <td>1.0</td>\n",
       "      <td>4.0</td>\n",
       "      <td>3.0</td>\n",
       "      <td>2.0</td>\n",
       "      <td>3.0</td>\n",
       "    </tr>\n",
       "    <tr>\n",
       "      <th>3</th>\n",
       "      <td>p</td>\n",
       "      <td>5.0</td>\n",
       "      <td>3.0</td>\n",
       "      <td>8.0</td>\n",
       "      <td>1.0</td>\n",
       "      <td>6.0</td>\n",
       "      <td>1.0</td>\n",
       "      <td>0.0</td>\n",
       "      <td>1.0</td>\n",
       "      <td>5.0</td>\n",
       "      <td>...</td>\n",
       "      <td>2.0</td>\n",
       "      <td>7.0</td>\n",
       "      <td>7.0</td>\n",
       "      <td>0.0</td>\n",
       "      <td>2.0</td>\n",
       "      <td>1.0</td>\n",
       "      <td>4.0</td>\n",
       "      <td>2.0</td>\n",
       "      <td>3.0</td>\n",
       "      <td>5.0</td>\n",
       "    </tr>\n",
       "    <tr>\n",
       "      <th>4</th>\n",
       "      <td>e</td>\n",
       "      <td>5.0</td>\n",
       "      <td>2.0</td>\n",
       "      <td>3.0</td>\n",
       "      <td>0.0</td>\n",
       "      <td>5.0</td>\n",
       "      <td>1.0</td>\n",
       "      <td>1.0</td>\n",
       "      <td>0.0</td>\n",
       "      <td>4.0</td>\n",
       "      <td>...</td>\n",
       "      <td>2.0</td>\n",
       "      <td>7.0</td>\n",
       "      <td>7.0</td>\n",
       "      <td>0.0</td>\n",
       "      <td>2.0</td>\n",
       "      <td>1.0</td>\n",
       "      <td>0.0</td>\n",
       "      <td>3.0</td>\n",
       "      <td>0.0</td>\n",
       "      <td>1.0</td>\n",
       "    </tr>\n",
       "    <tr>\n",
       "      <th>...</th>\n",
       "      <td>...</td>\n",
       "      <td>...</td>\n",
       "      <td>...</td>\n",
       "      <td>...</td>\n",
       "      <td>...</td>\n",
       "      <td>...</td>\n",
       "      <td>...</td>\n",
       "      <td>...</td>\n",
       "      <td>...</td>\n",
       "      <td>...</td>\n",
       "      <td>...</td>\n",
       "      <td>...</td>\n",
       "      <td>...</td>\n",
       "      <td>...</td>\n",
       "      <td>...</td>\n",
       "      <td>...</td>\n",
       "      <td>...</td>\n",
       "      <td>...</td>\n",
       "      <td>...</td>\n",
       "      <td>...</td>\n",
       "      <td>...</td>\n",
       "    </tr>\n",
       "    <tr>\n",
       "      <th>8119</th>\n",
       "      <td>e</td>\n",
       "      <td>3.0</td>\n",
       "      <td>2.0</td>\n",
       "      <td>4.0</td>\n",
       "      <td>0.0</td>\n",
       "      <td>5.0</td>\n",
       "      <td>0.0</td>\n",
       "      <td>0.0</td>\n",
       "      <td>0.0</td>\n",
       "      <td>11.0</td>\n",
       "      <td>...</td>\n",
       "      <td>2.0</td>\n",
       "      <td>5.0</td>\n",
       "      <td>5.0</td>\n",
       "      <td>0.0</td>\n",
       "      <td>1.0</td>\n",
       "      <td>1.0</td>\n",
       "      <td>4.0</td>\n",
       "      <td>0.0</td>\n",
       "      <td>1.0</td>\n",
       "      <td>2.0</td>\n",
       "    </tr>\n",
       "    <tr>\n",
       "      <th>8120</th>\n",
       "      <td>e</td>\n",
       "      <td>5.0</td>\n",
       "      <td>2.0</td>\n",
       "      <td>4.0</td>\n",
       "      <td>0.0</td>\n",
       "      <td>5.0</td>\n",
       "      <td>0.0</td>\n",
       "      <td>0.0</td>\n",
       "      <td>0.0</td>\n",
       "      <td>11.0</td>\n",
       "      <td>...</td>\n",
       "      <td>2.0</td>\n",
       "      <td>5.0</td>\n",
       "      <td>5.0</td>\n",
       "      <td>0.0</td>\n",
       "      <td>0.0</td>\n",
       "      <td>1.0</td>\n",
       "      <td>4.0</td>\n",
       "      <td>0.0</td>\n",
       "      <td>4.0</td>\n",
       "      <td>2.0</td>\n",
       "    </tr>\n",
       "    <tr>\n",
       "      <th>8121</th>\n",
       "      <td>e</td>\n",
       "      <td>2.0</td>\n",
       "      <td>2.0</td>\n",
       "      <td>4.0</td>\n",
       "      <td>0.0</td>\n",
       "      <td>5.0</td>\n",
       "      <td>0.0</td>\n",
       "      <td>0.0</td>\n",
       "      <td>0.0</td>\n",
       "      <td>5.0</td>\n",
       "      <td>...</td>\n",
       "      <td>2.0</td>\n",
       "      <td>5.0</td>\n",
       "      <td>5.0</td>\n",
       "      <td>0.0</td>\n",
       "      <td>1.0</td>\n",
       "      <td>1.0</td>\n",
       "      <td>4.0</td>\n",
       "      <td>0.0</td>\n",
       "      <td>1.0</td>\n",
       "      <td>2.0</td>\n",
       "    </tr>\n",
       "    <tr>\n",
       "      <th>8122</th>\n",
       "      <td>p</td>\n",
       "      <td>3.0</td>\n",
       "      <td>3.0</td>\n",
       "      <td>4.0</td>\n",
       "      <td>0.0</td>\n",
       "      <td>8.0</td>\n",
       "      <td>1.0</td>\n",
       "      <td>0.0</td>\n",
       "      <td>1.0</td>\n",
       "      <td>0.0</td>\n",
       "      <td>...</td>\n",
       "      <td>1.0</td>\n",
       "      <td>7.0</td>\n",
       "      <td>7.0</td>\n",
       "      <td>0.0</td>\n",
       "      <td>2.0</td>\n",
       "      <td>1.0</td>\n",
       "      <td>0.0</td>\n",
       "      <td>7.0</td>\n",
       "      <td>4.0</td>\n",
       "      <td>2.0</td>\n",
       "    </tr>\n",
       "    <tr>\n",
       "      <th>8123</th>\n",
       "      <td>e</td>\n",
       "      <td>5.0</td>\n",
       "      <td>2.0</td>\n",
       "      <td>4.0</td>\n",
       "      <td>0.0</td>\n",
       "      <td>5.0</td>\n",
       "      <td>0.0</td>\n",
       "      <td>0.0</td>\n",
       "      <td>0.0</td>\n",
       "      <td>11.0</td>\n",
       "      <td>...</td>\n",
       "      <td>2.0</td>\n",
       "      <td>5.0</td>\n",
       "      <td>5.0</td>\n",
       "      <td>0.0</td>\n",
       "      <td>1.0</td>\n",
       "      <td>1.0</td>\n",
       "      <td>4.0</td>\n",
       "      <td>4.0</td>\n",
       "      <td>1.0</td>\n",
       "      <td>2.0</td>\n",
       "    </tr>\n",
       "  </tbody>\n",
       "</table>\n",
       "<p>8124 rows × 23 columns</p>\n",
       "</div>"
      ],
      "text/plain": [
       "     Attributes  cap_shape  cap_surface  cap_color  bruises  odor  \\\n",
       "0             p        5.0          2.0        4.0      1.0   6.0   \n",
       "1             e        5.0          2.0        9.0      1.0   0.0   \n",
       "2             e        0.0          2.0        8.0      1.0   3.0   \n",
       "3             p        5.0          3.0        8.0      1.0   6.0   \n",
       "4             e        5.0          2.0        3.0      0.0   5.0   \n",
       "...         ...        ...          ...        ...      ...   ...   \n",
       "8119          e        3.0          2.0        4.0      0.0   5.0   \n",
       "8120          e        5.0          2.0        4.0      0.0   5.0   \n",
       "8121          e        2.0          2.0        4.0      0.0   5.0   \n",
       "8122          p        3.0          3.0        4.0      0.0   8.0   \n",
       "8123          e        5.0          2.0        4.0      0.0   5.0   \n",
       "\n",
       "      gill_attachment  gill_spacing  gill_size  gill_color  ...  \\\n",
       "0                 1.0           0.0        1.0         4.0  ...   \n",
       "1                 1.0           0.0        0.0         4.0  ...   \n",
       "2                 1.0           0.0        0.0         5.0  ...   \n",
       "3                 1.0           0.0        1.0         5.0  ...   \n",
       "4                 1.0           1.0        0.0         4.0  ...   \n",
       "...               ...           ...        ...         ...  ...   \n",
       "8119              0.0           0.0        0.0        11.0  ...   \n",
       "8120              0.0           0.0        0.0        11.0  ...   \n",
       "8121              0.0           0.0        0.0         5.0  ...   \n",
       "8122              1.0           0.0        1.0         0.0  ...   \n",
       "8123              0.0           0.0        0.0        11.0  ...   \n",
       "\n",
       "     stalk_surface_below_ring  stalk_color_above_ring  stalk_color_below_ring  \\\n",
       "0                         2.0                     7.0                     7.0   \n",
       "1                         2.0                     7.0                     7.0   \n",
       "2                         2.0                     7.0                     7.0   \n",
       "3                         2.0                     7.0                     7.0   \n",
       "4                         2.0                     7.0                     7.0   \n",
       "...                       ...                     ...                     ...   \n",
       "8119                      2.0                     5.0                     5.0   \n",
       "8120                      2.0                     5.0                     5.0   \n",
       "8121                      2.0                     5.0                     5.0   \n",
       "8122                      1.0                     7.0                     7.0   \n",
       "8123                      2.0                     5.0                     5.0   \n",
       "\n",
       "      veil_type  veil_color  ring_number  ring_type  spore_print_color  \\\n",
       "0           0.0         2.0          1.0        4.0                2.0   \n",
       "1           0.0         2.0          1.0        4.0                3.0   \n",
       "2           0.0         2.0          1.0        4.0                3.0   \n",
       "3           0.0         2.0          1.0        4.0                2.0   \n",
       "4           0.0         2.0          1.0        0.0                3.0   \n",
       "...         ...         ...          ...        ...                ...   \n",
       "8119        0.0         1.0          1.0        4.0                0.0   \n",
       "8120        0.0         0.0          1.0        4.0                0.0   \n",
       "8121        0.0         1.0          1.0        4.0                0.0   \n",
       "8122        0.0         2.0          1.0        0.0                7.0   \n",
       "8123        0.0         1.0          1.0        4.0                4.0   \n",
       "\n",
       "      population  habitat  \n",
       "0            3.0      5.0  \n",
       "1            2.0      1.0  \n",
       "2            2.0      3.0  \n",
       "3            3.0      5.0  \n",
       "4            0.0      1.0  \n",
       "...          ...      ...  \n",
       "8119         1.0      2.0  \n",
       "8120         4.0      2.0  \n",
       "8121         1.0      2.0  \n",
       "8122         4.0      2.0  \n",
       "8123         1.0      2.0  \n",
       "\n",
       "[8124 rows x 23 columns]"
      ]
     },
     "execution_count": 5,
     "metadata": {},
     "output_type": "execute_result"
    }
   ],
   "source": [
    "df = get_dataset(options_classifier[\"datasets\"])\n",
    "df"
   ]
  },
  {
   "cell_type": "code",
   "execution_count": 6,
   "metadata": {},
   "outputs": [],
   "source": [
    "X_train, y_train, X_train_target, y_train_target, X_test, y_test, domain_col = \\\n",
    "    split_data(options_classifier, df, target_domain, 1)"
   ]
  },
  {
   "cell_type": "code",
   "execution_count": 7,
   "metadata": {},
   "outputs": [],
   "source": [
    "a = y_test"
   ]
  },
  {
   "cell_type": "code",
   "execution_count": 8,
   "metadata": {},
   "outputs": [],
   "source": [
    "label_encoder = LabelEncoder()\n",
    "y_train = label_encoder.fit_transform(y_train)\n",
    "y_test = label_encoder.transform(y_test)\n",
    "domain_encoder = LabelEncoder()\n",
    "domain_col = domain_encoder.fit_transform(domain_col)\n",
    "target_domain = domain_encoder.transform(np.array([target_domain]))[0]\n",
    "\n",
    "# X_train = pd.DataFrame(np.concatenate([X_train,domain_col.reshape(-1,1)],axis=1))\n",
    "X_train = pd.DataFrame(X_train)\n",
    "y_train = pd.Series(y_train)\n",
    "domain_col = pd.Series(domain_col)"
   ]
  },
  {
   "cell_type": "code",
   "execution_count": 9,
   "metadata": {},
   "outputs": [
    {
     "data": {
      "text/plain": [
       "array(['e', 'p'], dtype=object)"
      ]
     },
     "execution_count": 9,
     "metadata": {},
     "output_type": "execute_result"
    }
   ],
   "source": [
    "label_encoder.classes_\n",
    "# np.searchsorted(label_encoder.classes_, a).reshape(-1,1).shape"
   ]
  },
  {
   "cell_type": "code",
   "execution_count": 10,
   "metadata": {},
   "outputs": [
    {
     "data": {
      "text/plain": [
       "((3541, 21), (4583, 21))"
      ]
     },
     "execution_count": 10,
     "metadata": {},
     "output_type": "execute_result"
    }
   ],
   "source": [
    "X_train.shape, X_test.shape"
   ]
  },
  {
   "cell_type": "code",
   "execution_count": 11,
   "metadata": {},
   "outputs": [],
   "source": [
    "# X_train_target = pd.DataFrame(np.concatenate([X_train_target, domain_col[-X_train_target.shape[0]:].reshape(-1,1)],axis=1))\n",
    "# y_train_target = pd.Series(y_train_target)\n",
    "\n",
    "# X_train_source = pd.DataFrame(np.concatenate([X_train[domain_col!=target_domain],domain_col[:X_train_source.shape[0]].reshape(-1,1)],axis=1))\n",
    "# y_train_source = pd.Series(y_train[domain_col!=target_domain])"
   ]
  },
  {
   "cell_type": "markdown",
   "metadata": {},
   "source": [
    "## trbagg実行"
   ]
  },
  {
   "cell_type": "code",
   "execution_count": 12,
   "metadata": {},
   "outputs": [],
   "source": [
    "from tl_algs import trbag\n",
    "from sklearn.ensemble import RandomForestClassifier\n",
    "from sklearn.tree import DecisionTreeClassifier\n",
    "from sklearn.metrics import roc_auc_score"
   ]
  },
  {
   "cell_type": "code",
   "execution_count": 13,
   "metadata": {},
   "outputs": [],
   "source": [
    "model = trbag.TrBag(test_set_X=X_test, \n",
    "                  test_set_domain=target_domain, \n",
    "                  train_pool_X=X_train, \n",
    "                  train_pool_y=y_train, \n",
    "                  train_pool_domain=domain_col, \n",
    "                  sample_size=y_train.shape[0],\n",
    "                  Base_Classifier=DecisionTreeClassifier,\n",
    "                  classifier_params={'max_depth':6},\n",
    "                  T=100,\n",
    "                  rand_seed=seed\n",
    "                 )"
   ]
  },
  {
   "cell_type": "code",
   "execution_count": 14,
   "metadata": {},
   "outputs": [],
   "source": [
    "confidences, predictions = model.train_filter_test()"
   ]
  },
  {
   "cell_type": "code",
   "execution_count": 15,
   "metadata": {},
   "outputs": [
    {
     "data": {
      "text/plain": [
       "(4583, 2)"
      ]
     },
     "execution_count": 15,
     "metadata": {},
     "output_type": "execute_result"
    }
   ],
   "source": [
    "np.vstack([confidences, 1-confidences]).T.shape"
   ]
  },
  {
   "cell_type": "code",
   "execution_count": 16,
   "metadata": {},
   "outputs": [
    {
     "data": {
      "text/plain": [
       "((4583,), (4583,))"
      ]
     },
     "execution_count": 16,
     "metadata": {},
     "output_type": "execute_result"
    }
   ],
   "source": [
    "predictions.shape ,y_test.shape"
   ]
  },
  {
   "cell_type": "code",
   "execution_count": 17,
   "metadata": {},
   "outputs": [
    {
     "data": {
      "text/plain": [
       "0.9813736903376018"
      ]
     },
     "execution_count": 17,
     "metadata": {},
     "output_type": "execute_result"
    }
   ],
   "source": [
    "roc_auc_score(y_test, predictions)"
   ]
  },
  {
   "cell_type": "code",
   "execution_count": 18,
   "metadata": {},
   "outputs": [
    {
     "data": {
      "text/plain": [
       "0.976222380588154"
      ]
     },
     "execution_count": 18,
     "metadata": {},
     "output_type": "execute_result"
    }
   ],
   "source": [
    "roc_auc_score(y_test, confidences)"
   ]
  },
  {
   "cell_type": "code",
   "execution_count": 21,
   "metadata": {},
   "outputs": [
    {
     "data": {
      "text/plain": [
       "0.976222380588154"
      ]
     },
     "execution_count": 21,
     "metadata": {},
     "output_type": "execute_result"
    }
   ],
   "source": [
    "# filter_funcにMVVを用いた場合(今回はtarget domainのデータ数が少ないため△)\n",
    "\n",
    "model2 = trbag.TrBag(test_set_X=X_test, \n",
    "                  test_set_domain=target_domain, \n",
    "                  train_pool_X=X_train, \n",
    "                  train_pool_y=y_train, \n",
    "                  train_pool_domain=domain_col, \n",
    "                  sample_size=y_train.shape[0],\n",
    "                  Base_Classifier=DecisionTreeClassifier,\n",
    "                  classifier_params={'max_depth':6},\n",
    "                  filter_func=trbag.mvv_filter,\n",
    "                  T=100,\n",
    "                  rand_seed=seed\n",
    "                 )\n",
    "confidences2, predictions2 = model.train_filter_test()\n",
    "\n",
    "roc_auc_score(y_test, confidences2)"
   ]
  },
  {
   "cell_type": "code",
   "execution_count": 61,
   "metadata": {},
   "outputs": [],
   "source": [
    "target_domains = [\"e\",\"t\"]\n",
    "exp_iters=30\n",
    "results_classifier = np.zeros((exp_iters,len(target_domains)))\n",
    "\n",
    "df = get_dataset(options_classifier[\"datasets\"])\n",
    "\n",
    "for i in range(exp_iters):\n",
    "    for j, target_domain in enumerate(target_domains):\n",
    "        X_train, y_train, X_train_target, y_train_target, X_test, y_test, domain_col = \\\n",
    "            split_data(options_classifier, df, target_domain, i)\n",
    "        label_encoder = LabelEncoder()\n",
    "        y_train = label_encoder.fit_transform(y_train)\n",
    "        y_test = label_encoder.transform(y_test)\n",
    "        domain_encoder = LabelEncoder()\n",
    "        domain_col = domain_encoder.fit_transform(domain_col)\n",
    "        target_domain = domain_encoder.transform(np.array([target_domain]))[0]\n",
    "        X_train = pd.DataFrame(X_train)\n",
    "        y_train = pd.Series(y_train)\n",
    "        domain_col = pd.Series(domain_col)\n",
    "        model = trbag.TrBag(test_set_X=X_test, \n",
    "                          test_set_domain=target_domain, \n",
    "                          train_pool_X=X_train, \n",
    "                          train_pool_y=y_train, \n",
    "                          train_pool_domain=domain_col, \n",
    "                          sample_size=y_train.shape[0],\n",
    "                          Base_Classifier=DecisionTreeClassifier,\n",
    "                          classifier_params={'max_depth':6},\n",
    "                          T=100,\n",
    "                          rand_seed=seed\n",
    "                         )\n",
    "        _, predictions = model.train_filter_test()\n",
    "        results_classifier[i,j] = (roc_auc_score(y_test, predictions))**0.5"
   ]
  },
  {
   "cell_type": "code",
   "execution_count": 62,
   "metadata": {},
   "outputs": [
    {
     "data": {
      "text/plain": [
       "array([[0.9423935 , 0.99064307],\n",
       "       [0.96700505, 0.99064307],\n",
       "       [0.95736146, 0.99064672],\n",
       "       [0.94695998, 0.99064672],\n",
       "       [0.96090888, 0.98008546],\n",
       "       [0.97691499, 0.99063942],\n",
       "       [0.90491598, 0.99299875],\n",
       "       [0.91161547, 0.99065764],\n",
       "       [0.94320941, 0.99299602],\n",
       "       [0.9594361 , 0.99065036],\n",
       "       [0.92158041, 0.99063577],\n",
       "       [0.93334033, 0.99064672],\n",
       "       [0.91887209, 0.9953289 ],\n",
       "       [0.9734425 , 0.99377184],\n",
       "       [0.94219497, 0.99533797],\n",
       "       [0.92894777, 0.9213274 ],\n",
       "       [0.95048728, 0.990654  ],\n",
       "       [0.92508184, 0.99065036],\n",
       "       [0.8804817 , 0.99698575],\n",
       "       [0.94623969, 0.99064307],\n",
       "       [0.86289164, 0.99407157],\n",
       "       [0.90635224, 0.96619557],\n",
       "       [0.94105351, 0.99063942],\n",
       "       [0.96810042, 0.99066127],\n",
       "       [0.92512904, 0.99065036],\n",
       "       [0.94203451, 0.99064672],\n",
       "       [0.95816393, 0.99299875],\n",
       "       [0.89469382, 0.99249904],\n",
       "       [0.94641139, 0.99533434],\n",
       "       [0.96371457, 0.99447   ]])"
      ]
     },
     "execution_count": 62,
     "metadata": {},
     "output_type": "execute_result"
    }
   ],
   "source": [
    "results_classifier"
   ]
  },
  {
   "cell_type": "code",
   "execution_count": 63,
   "metadata": {},
   "outputs": [
    {
     "data": {
      "text/plain": [
       "array([0.93666448, 0.98849187])"
      ]
     },
     "execution_count": 63,
     "metadata": {},
     "output_type": "execute_result"
    }
   ],
   "source": [
    "results_classifier.mean(axis=0)"
   ]
  },
  {
   "cell_type": "markdown",
   "metadata": {},
   "source": [
    "# concrete"
   ]
  },
  {
   "cell_type": "markdown",
   "metadata": {},
   "source": [
    "## 準備"
   ]
  },
  {
   "cell_type": "code",
   "execution_count": 64,
   "metadata": {},
   "outputs": [],
   "source": [
    "options_regressor = {\n",
    "    \"experiments\": {\n",
    "        \"n_targets\": 25,\n",
    "        \"source_sampling\": False\n",
    "    },\n",
    "    \n",
    "    \"datasets\": {\n",
    "        \"source\":\"uci\",\n",
    "        \"dataset_name\": \"concrete\",\n",
    "        \"task\": \"regression\",\n",
    "        \"split_feature_name\": \"Water\",\n",
    "        \"y_feature\": \"Concrete compressive strength\",\n",
    "        \"split_feature\": \"Water_CAT\",\n",
    "        \"n_domains\": 3,\n",
    "        \"target_domain\": None,\n",
    "        \"metric\": \"RMSE\"\n",
    "    }\n",
    "}\n",
    "\n",
    "target_domain = 1\n",
    "seed = 1"
   ]
  },
  {
   "cell_type": "code",
   "execution_count": 65,
   "metadata": {},
   "outputs": [
    {
     "data": {
      "text/html": [
       "<div>\n",
       "<style scoped>\n",
       "    .dataframe tbody tr th:only-of-type {\n",
       "        vertical-align: middle;\n",
       "    }\n",
       "\n",
       "    .dataframe tbody tr th {\n",
       "        vertical-align: top;\n",
       "    }\n",
       "\n",
       "    .dataframe thead th {\n",
       "        text-align: right;\n",
       "    }\n",
       "</style>\n",
       "<table border=\"1\" class=\"dataframe\">\n",
       "  <thead>\n",
       "    <tr style=\"text-align: right;\">\n",
       "      <th></th>\n",
       "      <th>Cement</th>\n",
       "      <th>Blast Furnace Slag</th>\n",
       "      <th>Fly Ash</th>\n",
       "      <th>Superplasticizer</th>\n",
       "      <th>Coarse Aggregate</th>\n",
       "      <th>Fine Aggregate</th>\n",
       "      <th>Age</th>\n",
       "      <th>Concrete compressive strength</th>\n",
       "      <th>Water_CAT</th>\n",
       "    </tr>\n",
       "  </thead>\n",
       "  <tbody>\n",
       "    <tr>\n",
       "      <th>0</th>\n",
       "      <td>540.0</td>\n",
       "      <td>0.0</td>\n",
       "      <td>0.0</td>\n",
       "      <td>2.5</td>\n",
       "      <td>1055.0</td>\n",
       "      <td>676.0</td>\n",
       "      <td>28</td>\n",
       "      <td>61.887366</td>\n",
       "      <td>0</td>\n",
       "    </tr>\n",
       "    <tr>\n",
       "      <th>1</th>\n",
       "      <td>332.5</td>\n",
       "      <td>142.5</td>\n",
       "      <td>0.0</td>\n",
       "      <td>0.0</td>\n",
       "      <td>932.0</td>\n",
       "      <td>594.0</td>\n",
       "      <td>270</td>\n",
       "      <td>40.269535</td>\n",
       "      <td>2</td>\n",
       "    </tr>\n",
       "    <tr>\n",
       "      <th>2</th>\n",
       "      <td>332.5</td>\n",
       "      <td>142.5</td>\n",
       "      <td>0.0</td>\n",
       "      <td>0.0</td>\n",
       "      <td>932.0</td>\n",
       "      <td>594.0</td>\n",
       "      <td>365</td>\n",
       "      <td>41.052780</td>\n",
       "      <td>2</td>\n",
       "    </tr>\n",
       "    <tr>\n",
       "      <th>3</th>\n",
       "      <td>198.6</td>\n",
       "      <td>132.4</td>\n",
       "      <td>0.0</td>\n",
       "      <td>0.0</td>\n",
       "      <td>978.4</td>\n",
       "      <td>825.5</td>\n",
       "      <td>360</td>\n",
       "      <td>44.296075</td>\n",
       "      <td>1</td>\n",
       "    </tr>\n",
       "    <tr>\n",
       "      <th>4</th>\n",
       "      <td>266.0</td>\n",
       "      <td>114.0</td>\n",
       "      <td>0.0</td>\n",
       "      <td>0.0</td>\n",
       "      <td>932.0</td>\n",
       "      <td>670.0</td>\n",
       "      <td>90</td>\n",
       "      <td>47.029847</td>\n",
       "      <td>2</td>\n",
       "    </tr>\n",
       "    <tr>\n",
       "      <th>...</th>\n",
       "      <td>...</td>\n",
       "      <td>...</td>\n",
       "      <td>...</td>\n",
       "      <td>...</td>\n",
       "      <td>...</td>\n",
       "      <td>...</td>\n",
       "      <td>...</td>\n",
       "      <td>...</td>\n",
       "      <td>...</td>\n",
       "    </tr>\n",
       "    <tr>\n",
       "      <th>1024</th>\n",
       "      <td>276.4</td>\n",
       "      <td>116.0</td>\n",
       "      <td>90.3</td>\n",
       "      <td>8.9</td>\n",
       "      <td>870.1</td>\n",
       "      <td>768.3</td>\n",
       "      <td>28</td>\n",
       "      <td>44.284354</td>\n",
       "      <td>1</td>\n",
       "    </tr>\n",
       "    <tr>\n",
       "      <th>1025</th>\n",
       "      <td>322.2</td>\n",
       "      <td>0.0</td>\n",
       "      <td>115.6</td>\n",
       "      <td>10.4</td>\n",
       "      <td>817.9</td>\n",
       "      <td>813.4</td>\n",
       "      <td>28</td>\n",
       "      <td>31.178794</td>\n",
       "      <td>2</td>\n",
       "    </tr>\n",
       "    <tr>\n",
       "      <th>1026</th>\n",
       "      <td>148.5</td>\n",
       "      <td>139.4</td>\n",
       "      <td>108.6</td>\n",
       "      <td>6.1</td>\n",
       "      <td>892.4</td>\n",
       "      <td>780.0</td>\n",
       "      <td>28</td>\n",
       "      <td>23.696601</td>\n",
       "      <td>2</td>\n",
       "    </tr>\n",
       "    <tr>\n",
       "      <th>1027</th>\n",
       "      <td>159.1</td>\n",
       "      <td>186.7</td>\n",
       "      <td>0.0</td>\n",
       "      <td>11.3</td>\n",
       "      <td>989.6</td>\n",
       "      <td>788.9</td>\n",
       "      <td>28</td>\n",
       "      <td>32.768036</td>\n",
       "      <td>1</td>\n",
       "    </tr>\n",
       "    <tr>\n",
       "      <th>1028</th>\n",
       "      <td>260.9</td>\n",
       "      <td>100.5</td>\n",
       "      <td>78.3</td>\n",
       "      <td>8.6</td>\n",
       "      <td>864.5</td>\n",
       "      <td>761.5</td>\n",
       "      <td>28</td>\n",
       "      <td>32.401235</td>\n",
       "      <td>2</td>\n",
       "    </tr>\n",
       "  </tbody>\n",
       "</table>\n",
       "<p>1029 rows × 9 columns</p>\n",
       "</div>"
      ],
      "text/plain": [
       "      Cement  Blast Furnace Slag  Fly Ash  Superplasticizer  Coarse Aggregate  \\\n",
       "0      540.0                 0.0      0.0               2.5            1055.0   \n",
       "1      332.5               142.5      0.0               0.0             932.0   \n",
       "2      332.5               142.5      0.0               0.0             932.0   \n",
       "3      198.6               132.4      0.0               0.0             978.4   \n",
       "4      266.0               114.0      0.0               0.0             932.0   \n",
       "...      ...                 ...      ...               ...               ...   \n",
       "1024   276.4               116.0     90.3               8.9             870.1   \n",
       "1025   322.2                 0.0    115.6              10.4             817.9   \n",
       "1026   148.5               139.4    108.6               6.1             892.4   \n",
       "1027   159.1               186.7      0.0              11.3             989.6   \n",
       "1028   260.9               100.5     78.3               8.6             864.5   \n",
       "\n",
       "      Fine Aggregate  Age  Concrete compressive strength  Water_CAT  \n",
       "0              676.0   28                      61.887366          0  \n",
       "1              594.0  270                      40.269535          2  \n",
       "2              594.0  365                      41.052780          2  \n",
       "3              825.5  360                      44.296075          1  \n",
       "4              670.0   90                      47.029847          2  \n",
       "...              ...  ...                            ...        ...  \n",
       "1024           768.3   28                      44.284354          1  \n",
       "1025           813.4   28                      31.178794          2  \n",
       "1026           780.0   28                      23.696601          2  \n",
       "1027           788.9   28                      32.768036          1  \n",
       "1028           761.5   28                      32.401235          2  \n",
       "\n",
       "[1029 rows x 9 columns]"
      ]
     },
     "execution_count": 65,
     "metadata": {},
     "output_type": "execute_result"
    }
   ],
   "source": [
    "df = get_dataset(options_regressor[\"datasets\"])\n",
    "df"
   ]
  },
  {
   "cell_type": "code",
   "execution_count": 66,
   "metadata": {},
   "outputs": [],
   "source": [
    "X_train, y_train, X_train_target, y_train_target, X_test, y_test, domain_col = \\\n",
    "    split_data(options_regressor, df, target_domain, 1)\n",
    "\n",
    "X_train = pd.DataFrame(X_train)\n",
    "y_train = pd.Series(y_train)\n",
    "domain_col = pd.Series(domain_col)"
   ]
  },
  {
   "cell_type": "markdown",
   "metadata": {},
   "source": [
    "## Trbagg実行"
   ]
  },
  {
   "cell_type": "code",
   "execution_count": 67,
   "metadata": {},
   "outputs": [],
   "source": [
    "from sklearn.ensemble import RandomForestRegressor\n",
    "from sklearn.tree import DecisionTreeRegressor\n",
    "from sklearn.metrics import mean_squared_error\n",
    "from tl_algs import voter"
   ]
  },
  {
   "cell_type": "code",
   "execution_count": 68,
   "metadata": {},
   "outputs": [],
   "source": [
    "model = trbag.TrBag(test_set_X=X_test, \n",
    "                  test_set_domain=target_domain, \n",
    "                  train_pool_X=X_train, \n",
    "                  train_pool_y=y_train, \n",
    "                  train_pool_domain=domain_col, \n",
    "                  sample_size=y_train.shape[0],\n",
    "                  Base_Classifier=DecisionTreeRegressor,\n",
    "                  filter_metric=mean_squared_error,\n",
    "                  T=100,\n",
    "                  vote_func=voter.count_vote_regression,\n",
    "                  rand_seed=seed\n",
    "                 )"
   ]
  },
  {
   "cell_type": "code",
   "execution_count": 71,
   "metadata": {},
   "outputs": [
    {
     "data": {
      "text/plain": [
       "((402,), (402,))"
      ]
     },
     "execution_count": 71,
     "metadata": {},
     "output_type": "execute_result"
    }
   ],
   "source": [
    "model.train_filter_test().shape, y_test.shape"
   ]
  },
  {
   "cell_type": "code",
   "execution_count": 75,
   "metadata": {},
   "outputs": [
    {
     "data": {
      "text/plain": [
       "array([33.19206412, 32.922479  , 33.00383717, 33.19206412, 37.6798634 ,\n",
       "       33.19206412, 13.22414968, 10.3938507 , 10.7875415 ,  7.83934212,\n",
       "       12.54156844, 37.6798634 , 25.11662572, 36.3009114 , 25.2003478 ,\n",
       "       25.2003478 , 32.82319446, 46.20178676, 35.07640202, 46.80163088,\n",
       "       34.67374804, 53.57917996, 60.2946762 , 55.49592324, 71.29871316,\n",
       "       57.21271848, 53.57917996, 64.30053176, 63.3973182 , 77.29715436,\n",
       "       56.8128224 , 53.65502232, 65.19685056, 79.29663476, 56.8128224 ,\n",
       "       10.0318758 , 22.13907436, 22.83544512, 27.66177712, 34.55653712,\n",
       "       13.35515012, 21.50475644, 24.53845084, 32.8535314 , 12.5484632 ,\n",
       "       19.41564416, 24.24197616, 32.8535314 , 39.2311844 , 11.98309288,\n",
       "       31.2677366 , 31.64005364, 43.49904084, 48.67011084, 11.98309288,\n",
       "       31.2677366 , 31.64005364, 43.49904084, 48.67011084, 10.38350856,\n",
       "       22.31833812, 25.72434956, 33.19206412, 34.55653712, 10.38350856,\n",
       "       22.31833812, 28.62704352, 27.66177712, 34.55653712, 13.62404576,\n",
       "       21.60128308, 24.53845084, 35.34253976, 40.14818748, 20.72564856,\n",
       "       31.97100212, 31.53663224, 40.14818748, 17.22311048, 22.13907436,\n",
       "       30.21973308, 39.2656582 , 40.14818748, 23.80071152, 34.67374804,\n",
       "       31.87447548, 40.14818748, 45.3675208 , 61.88736576, 60.28088668,\n",
       "       47.27736932, 44.0919902 , 38.60376124, 23.69660064, 30.88163004,\n",
       "       33.00383717, 15.52010476, 12.17614616, 15.52010476, 10.38350856,\n",
       "       29.55094136, 29.55094136, 29.59230992, 22.13907436, 33.00383717,\n",
       "       33.00383717, 33.00521612, 28.62704352, 53.46196904, 41.54230795,\n",
       "       53.46196904, 27.66177712, 53.65502232, 43.56523054, 34.55653712,\n",
       "       72.09850532, 40.28509772, 74.36491146, 41.540929  , 23.63917715,\n",
       "       33.39821744, 45.08483564, 41.68020315, 22.50449664, 26.0621928 ,\n",
       "       52.90831981, 40.65839972, 52.90831981, 38.60376124, 52.90831981,\n",
       "       26.0621928 , 14.14391066, 26.94472208, 14.39625888, 25.89396066,\n",
       "       26.200088  , 34.73580088, 22.50449664, 34.73580088, 37.65852248,\n",
       "        9.73126426, 11.95758227, 19.35014394, 15.36152528, 33.94772981,\n",
       "       33.94772981, 19.35014394, 20.96696516, 36.96418731, 36.44776979,\n",
       "       25.62092816, 19.35014394, 30.88163004, 18.12632404, 36.96418731,\n",
       "       25.62092816, 36.44776979, 22.43554904, 36.96418731, 15.0305768 ,\n",
       "       43.37700359, 10.3938507 , 18.12632404, 28.23748958, 15.74832132,\n",
       "       33.00383717, 24.40055564, 15.74832132, 30.6472082 , 36.96418731,\n",
       "       19.35014394, 43.37700359, 11.46598588, 28.23748958, 10.7875415 ,\n",
       "       29.97841648, 12.5484632 , 22.43554904, 36.3009114 , 14.2032056 ,\n",
       "       25.89396066, 31.2677366 , 11.95758227, 53.57917996, 20.77391188,\n",
       "       32.24541357, 13.22414968, 32.922479  , 34.48758952, 36.14922668,\n",
       "       18.41590396,  9.99050724, 18.41590396, 18.12632404, 27.53077668,\n",
       "       22.43554904, 18.12632404, 22.43554904, 25.62092816, 31.97100212,\n",
       "       43.0577762 , 25.62092816, 11.98309288, 21.7529678 , 18.12632404,\n",
       "       27.3377234 , 33.66435518,  2.33180783, 29.23171397,  6.8085755 ,\n",
       "       29.23171397, 28.23748958, 10.35455057,  9.56165317, 33.94772981,\n",
       "        4.82771095, 22.94576128, 15.0305768 ,  4.90355331,  7.72351015,\n",
       "       46.24729218, 20.59395864, 24.04616498, 32.53292506, 43.56523054,\n",
       "       10.35455057, 39.70002808, 10.3938507 , 29.49716223, 23.69039536,\n",
       "       33.00383717, 24.29092896,  3.31982694, 50.94882902, 10.7875415 ,\n",
       "       31.2677366 , 29.23171397, 32.53292506,  2.33180783, 32.53292506,\n",
       "       15.74832132,  4.90355331, 10.35455057,  7.72351015, 12.54156844,\n",
       "       18.12632404, 26.74477404, 37.34202016, 37.34202016, 13.22414968,\n",
       "       18.12632404, 27.53077668, 40.65839972, 40.56876784, 13.22414968,\n",
       "       18.12632404, 31.97100212, 40.65839972, 12.5484632 , 18.12632404,\n",
       "       22.43554904, 20.77391188, 40.0585556 , 44.13335876, 36.3009114 ,\n",
       "       18.12632404, 16.27852836, 16.27852836, 33.48883428, 27.04124872,\n",
       "       36.3009114 , 29.58541516, 31.17810472, 13.22414968, 13.22414968,\n",
       "       25.62092816, 36.3009114 , 22.43554904, 18.12632404, 29.97841648,\n",
       "       18.12632404, 22.43554904, 17.57612219, 19.35014394, 22.43554904,\n",
       "       32.24541357, 14.14391066, 18.12632404, 25.17966352, 29.58541516,\n",
       "       18.12632404, 31.97100212, 40.65839972, 40.65839972, 40.65839972,\n",
       "       71.62276688, 14.2032056 , 22.43554904, 29.97841648, 32.01138572,\n",
       "       36.3009114 , 43.0577762 , 25.62092816, 36.3009114 , 14.2032056 ,\n",
       "       22.43554904, 20.77391188, 32.03994972, 34.48758952, 34.48758952,\n",
       "       36.14922668, 41.63745564, 52.61391356, 59.76377968, 67.30664712,\n",
       "       69.65776028, 74.16693332, 36.3009114 , 26.0621928 , 35.31427124,\n",
       "       43.0577762 , 27.68108245, 29.07313449, 61.09446836, 33.94290348,\n",
       "       28.23748958, 31.4201108 , 39.42147978, 56.61907964, 32.72046253,\n",
       "       41.05140104, 16.87837248, 40.0585556 , 40.9348796 , 33.94772981,\n",
       "       45.2985732 , 31.02642   , 30.12320644, 44.52360218, 15.56836808,\n",
       "       23.69039536, 29.07313449, 23.69660064, 24.04616498, 23.69660064,\n",
       "       46.24315532, 27.3377234 , 17.95395504, 27.68108245, 29.07313449,\n",
       "       15.42357812, 39.42147978, 45.2985732 , 26.92265885, 15.41668336,\n",
       "       45.85429086, 27.53077668, 33.41890172, 24.3385028 , 13.45857152,\n",
       "       29.41304616, 30.12320644, 44.52360218, 15.56836808, 23.69039536,\n",
       "       28.9379972 , 23.69660064, 24.04616498, 23.69660064, 29.72331036,\n",
       "       46.24315532, 27.3377234 , 17.95395504, 27.68108245, 29.06830816,\n",
       "       15.42357812, 45.2985732 , 26.92265885, 26.14492992, 15.41668336,\n",
       "       45.85429086, 41.05140104, 30.84715624, 33.39959639, 35.31427124,\n",
       "       43.0577762 , 29.07313449, 57.21271848, 61.09446836, 33.94290348,\n",
       "       27.68108245, 31.4201108 , 39.42147978, 56.61907964, 31.02642   ,\n",
       "       41.05140104, 15.56974703, 40.0585556 , 40.9348796 , 33.94772981,\n",
       "       41.54230795, 31.02642   ])"
      ]
     },
     "execution_count": 75,
     "metadata": {},
     "output_type": "execute_result"
    }
   ],
   "source": [
    "predictions = model.train_filter_test()\n",
    "predictions"
   ]
  },
  {
   "cell_type": "code",
   "execution_count": 73,
   "metadata": {},
   "outputs": [
    {
     "data": {
      "text/plain": [
       "(array([False, False, False, ...,  True,  True,  True]),\n",
       " array([False, False, False, ...,  True,  True,  True]))"
      ]
     },
     "execution_count": 73,
     "metadata": {},
     "output_type": "execute_result"
    }
   ],
   "source": [
    "(predictions, predictions)"
   ]
  },
  {
   "cell_type": "code",
   "execution_count": 79,
   "metadata": {},
   "outputs": [
    {
     "data": {
      "text/plain": [
       "6.038023184626992"
      ]
     },
     "execution_count": 79,
     "metadata": {},
     "output_type": "execute_result"
    }
   ],
   "source": [
    "(mean_squared_error(y_test, predictions))**0.5"
   ]
  },
  {
   "cell_type": "code",
   "execution_count": 86,
   "metadata": {},
   "outputs": [],
   "source": [
    "target_domains = [0,1,2]\n",
    "exp_iters=30\n",
    "results = np.zeros((exp_iters,len(target_domains)))\n",
    "\n",
    "df = get_dataset(options_regressor[\"datasets\"])\n",
    "\n",
    "for i in range(exp_iters):\n",
    "    for j, target_domain in enumerate(target_domains):\n",
    "        X_train, y_train, X_train_target, y_train_target, X_test, y_test, domain_col = \\\n",
    "            split_data(options_regressor, df, target_domain, i)\n",
    "        X_train = pd.DataFrame(X_train)\n",
    "        y_train = pd.Series(y_train)\n",
    "        domain_col = pd.Series(domain_col)\n",
    "        model = trbag.TrBag(test_set_X=X_test, \n",
    "                          test_set_domain=target_domain, \n",
    "                          train_pool_X=X_train, \n",
    "                          train_pool_y=y_train, \n",
    "                          train_pool_domain=domain_col, \n",
    "                          sample_size=y_train.shape[0],\n",
    "                          Base_Classifier=DecisionTreeRegressor,\n",
    "                          filter_metric=mean_squared_error,\n",
    "                          classifier_params={'max_depth':6},\n",
    "                          T=100,\n",
    "                          vote_func=voter.count_vote_regression,\n",
    "                          rand_seed=seed\n",
    "                         )\n",
    "        predictions = model.train_filter_test()\n",
    "        results[i,j] = (mean_squared_error(y_test, predictions))**0.5"
   ]
  },
  {
   "cell_type": "code",
   "execution_count": 87,
   "metadata": {},
   "outputs": [
    {
     "data": {
      "text/plain": [
       "array([[10.69478804,  7.12178097,  8.31276361],\n",
       "       [10.42479688,  7.1409663 ,  7.80689953],\n",
       "       [10.26660714,  7.18886203,  7.31417211],\n",
       "       [ 9.85357994,  7.1996941 ,  7.52584743],\n",
       "       [ 9.98530217,  7.08977725,  7.63861926],\n",
       "       [10.20631305,  7.16123259,  8.02348199],\n",
       "       [10.75642784,  7.71636771,  7.57716796],\n",
       "       [ 9.79720285,  7.4203326 ,  7.91227642],\n",
       "       [10.06403128,  7.00995426,  7.59942731],\n",
       "       [ 9.84311701,  7.63921966,  7.59458122],\n",
       "       [ 9.31924345,  7.49428013,  8.48031942],\n",
       "       [ 9.90552393,  7.35485772,  8.04120767],\n",
       "       [ 9.48495198,  7.46042466,  7.38782545],\n",
       "       [10.07767409,  7.06918669,  7.60819901],\n",
       "       [ 9.11619543,  6.91284575,  7.51879291],\n",
       "       [10.38857362,  7.21340293,  8.01647777],\n",
       "       [10.12733788,  6.80411048,  7.60084147],\n",
       "       [10.57255317,  7.48050226,  8.12713511],\n",
       "       [ 9.53285693,  7.33120508,  8.11097507],\n",
       "       [10.5363209 ,  7.45865204,  8.1343674 ],\n",
       "       [ 9.98135309,  6.97093003,  7.37349093],\n",
       "       [ 9.7408377 ,  6.93189102,  8.18137166],\n",
       "       [10.15702998,  7.05248723,  7.70591866],\n",
       "       [ 9.79310525,  7.14997351,  7.41721188],\n",
       "       [10.94268351,  6.72680585,  7.47041623],\n",
       "       [ 9.89124619,  7.23673116,  7.61635846],\n",
       "       [ 9.67159751,  7.17407557,  7.51757988],\n",
       "       [10.20928804,  6.80829   ,  8.16997015],\n",
       "       [ 9.47714612,  7.41568244,  8.16481792],\n",
       "       [11.07994606,  7.09818623,  8.30146141]])"
      ]
     },
     "execution_count": 87,
     "metadata": {},
     "output_type": "execute_result"
    }
   ],
   "source": [
    "results"
   ]
  },
  {
   "cell_type": "code",
   "execution_count": 88,
   "metadata": {},
   "outputs": [
    {
     "data": {
      "text/plain": [
       "array([10.06325437,  7.19442361,  7.80833251])"
      ]
     },
     "execution_count": 88,
     "metadata": {},
     "output_type": "execute_result"
    }
   ],
   "source": [
    "results.mean(axis=0)"
   ]
  },
  {
   "cell_type": "markdown",
   "metadata": {},
   "source": [
    "# banknote"
   ]
  },
  {
   "cell_type": "code",
   "execution_count": 106,
   "metadata": {},
   "outputs": [],
   "source": [
    "options_banknote = {\n",
    "    \"experiments\": {\n",
    "        \"n_targets\": 25,\n",
    "        \"source_sampling\": False\n",
    "    },\n",
    "    \n",
    "    \"datasets\": {\n",
    "        \"source\":\"uci\",\n",
    "        \"dataset_name\": \"banknote\",\n",
    "        \"task\": \"classification\",\n",
    "        \"split_feature_name\": \"curtosis\",\n",
    "        \"y_feature\": \"class (integer)\",\n",
    "        \"split_feature\": \"curtosis_CAT\",\n",
    "        \"target_domain\": None,\n",
    "        \"metric\": \"auc\"\n",
    "    }\n",
    "}"
   ]
  },
  {
   "cell_type": "code",
   "execution_count": 108,
   "metadata": {},
   "outputs": [],
   "source": [
    "target_domains = [0,1,2]\n",
    "exp_iters=30\n",
    "results_banknote = np.zeros((exp_iters,len(target_domains)))\n",
    "\n",
    "df = get_dataset(options_banknote[\"datasets\"])\n",
    "\n",
    "for i in range(exp_iters):\n",
    "    for j, target_domain in enumerate(target_domains):\n",
    "        X_train, y_train, X_train_target, y_train_target, X_test, y_test, domain_col = \\\n",
    "            split_data(options_banknote, df, target_domain, i)\n",
    "        label_encoder = LabelEncoder()\n",
    "        y_train = label_encoder.fit_transform(y_train)\n",
    "        y_test = label_encoder.transform(y_test)\n",
    "        domain_encoder = LabelEncoder()\n",
    "        domain_col = domain_encoder.fit_transform(domain_col)\n",
    "        target_domain = domain_encoder.transform(np.array([target_domain]))[0]\n",
    "        X_train = pd.DataFrame(X_train)\n",
    "        y_train = pd.Series(y_train)\n",
    "        domain_col = pd.Series(domain_col)\n",
    "        model = trbag.TrBag(test_set_X=X_test, \n",
    "                          test_set_domain=target_domain, \n",
    "                          train_pool_X=X_train, \n",
    "                          train_pool_y=y_train, \n",
    "                          train_pool_domain=domain_col, \n",
    "                          sample_size=y_train.shape[0],\n",
    "                          Base_Classifier=DecisionTreeClassifier,\n",
    "                          classifier_params={'max_depth':6},\n",
    "                          T=100,\n",
    "                          rand_seed=seed\n",
    "                         )\n",
    "        _, predictions = model.train_filter_test()\n",
    "        results_banknote[i,j] = (roc_auc_score(y_test, predictions))**0.5"
   ]
  },
  {
   "cell_type": "code",
   "execution_count": 109,
   "metadata": {},
   "outputs": [
    {
     "data": {
      "text/plain": [
       "array([[0.86171619, 0.92156111, 0.92599463],\n",
       "       [0.8889295 , 0.96575075, 0.92616293],\n",
       "       [0.85546113, 0.95780283, 0.92461382],\n",
       "       [0.88231338, 0.91243921, 0.92024282],\n",
       "       [0.90169361, 0.96998517, 0.93094934],\n",
       "       [0.87028298, 0.96618519, 0.93981908],\n",
       "       [0.89943775, 0.96642358, 0.93571126],\n",
       "       [0.92328707, 0.91860357, 0.91207331],\n",
       "       [0.89131047, 0.96820759, 0.92547406],\n",
       "       [0.82985069, 0.9474765 , 0.90670305],\n",
       "       [0.8876237 , 0.97354326, 0.91772666],\n",
       "       [0.8676673 , 0.96990666, 0.93836612],\n",
       "       [0.88433222, 0.9622832 , 0.93718653],\n",
       "       [0.88710899, 0.95131732, 0.92304818],\n",
       "       [0.88102763, 0.96594962, 0.91154697],\n",
       "       [0.89045665, 0.96700113, 0.92255683],\n",
       "       [0.9015148 , 0.96822008, 0.93133845],\n",
       "       [0.86684908, 0.9672568 , 0.93689795],\n",
       "       [0.87182604, 0.91788885, 0.91656429],\n",
       "       [0.86324985, 0.94352255, 0.91656429],\n",
       "       [0.877423  , 0.91824688, 0.91855865],\n",
       "       [0.88231338, 0.92937344, 0.93801708],\n",
       "       [0.87595885, 0.97614078, 0.91772666],\n",
       "       [0.89901699, 0.90898404, 0.93808315],\n",
       "       [0.90237695, 0.93853065, 0.93453863],\n",
       "       [0.87959151, 0.97346583, 0.91871663],\n",
       "       [0.87950071, 0.97098006, 0.92942955],\n",
       "       [0.87900597, 0.9729307 , 0.93422045],\n",
       "       [0.88682334, 0.95887196, 0.93182808],\n",
       "       [0.89256854, 0.96475657, 0.93075313]])"
      ]
     },
     "execution_count": 109,
     "metadata": {},
     "output_type": "execute_result"
    }
   ],
   "source": [
    "results_banknote"
   ]
  },
  {
   "cell_type": "code",
   "execution_count": 110,
   "metadata": {},
   "outputs": [
    {
     "data": {
      "text/plain": [
       "array([0.88201728, 0.9531202 , 0.92638042])"
      ]
     },
     "execution_count": 110,
     "metadata": {},
     "output_type": "execute_result"
    }
   ],
   "source": [
    "results_banknote.mean(axis=0)"
   ]
  },
  {
   "cell_type": "markdown",
   "metadata": {},
   "source": [
    "# qsar"
   ]
  },
  {
   "cell_type": "code",
   "execution_count": 111,
   "metadata": {},
   "outputs": [],
   "source": [
    "options_qsar = {\n",
    "    \"experiments\": {\n",
    "        \"n_targets\": 25,\n",
    "        \"source_sampling\": False\n",
    "    },\n",
    "    \n",
    "    \"datasets\": {\n",
    "        \"source\":\"uci\",\n",
    "        \"dataset_name\": \"qsar\",\n",
    "        \"task\": \"regression\",\n",
    "        \"split_feature_name\": \"SM1_Dz(Z)\",\n",
    "        \"y_feature\": \"quantitative response\",\n",
    "        \"split_feature\": \"SM1_Dz_CAT\",\n",
    "        \"target_domain\": None,\n",
    "        \"metric\": \"RMSE\"\n",
    "    }\n",
    "}"
   ]
  },
  {
   "cell_type": "code",
   "execution_count": 117,
   "metadata": {},
   "outputs": [],
   "source": [
    "target_domains = [0,1,2]\n",
    "exp_iters=30\n",
    "results_qsar = np.zeros((exp_iters,len(target_domains)))\n",
    "\n",
    "df = get_dataset(options_qsar[\"datasets\"])\n",
    "\n",
    "for i in range(exp_iters):\n",
    "    for j, target_domain in enumerate(target_domains):\n",
    "        X_train, y_train, X_train_target, y_train_target, X_test, y_test, domain_col = \\\n",
    "            split_data(options_qsar, df, target_domain, i)\n",
    "        X_train = pd.DataFrame(X_train)\n",
    "        y_train = pd.Series(y_train)\n",
    "        domain_col = pd.Series(domain_col)\n",
    "        model = trbag.TrBag(test_set_X=X_test, \n",
    "                          test_set_domain=target_domain, \n",
    "                          train_pool_X=X_train, \n",
    "                          train_pool_y=y_train, \n",
    "                          train_pool_domain=domain_col, \n",
    "                          sample_size=y_train.shape[0],\n",
    "                          Base_Classifier=DecisionTreeRegressor,\n",
    "                          filter_metric=mean_squared_error,\n",
    "                          classifier_params={'max_depth':6},\n",
    "                          T=100,\n",
    "                          vote_func=voter.count_vote_regression,\n",
    "                          rand_seed=seed\n",
    "                         )\n",
    "        predictions = model.train_filter_test()\n",
    "        results_qsar[i,j] = (mean_squared_error(y_test, predictions))**0.5"
   ]
  },
  {
   "cell_type": "code",
   "execution_count": 118,
   "metadata": {},
   "outputs": [
    {
     "data": {
      "text/plain": [
       "array([[0.99256612, 1.07302463, 1.41527062],\n",
       "       [0.97596928, 1.08535913, 1.37646301],\n",
       "       [0.9631967 , 1.06229377, 1.40910112],\n",
       "       [0.99061115, 1.09665362, 1.43015467],\n",
       "       [0.95994034, 1.03760779, 1.38485881],\n",
       "       [0.94101819, 1.08105474, 1.38650922],\n",
       "       [0.96980988, 1.08098467, 1.40480649],\n",
       "       [0.97114222, 1.09116061, 1.36431362],\n",
       "       [0.96601605, 1.05556614, 1.33543087],\n",
       "       [0.99995109, 1.0540139 , 1.44600951],\n",
       "       [0.96312743, 1.0694366 , 1.4289287 ],\n",
       "       [0.95599731, 1.04729185, 1.43699333],\n",
       "       [0.99435146, 1.05317576, 1.43492419],\n",
       "       [0.99873592, 1.01909555, 1.40016371],\n",
       "       [0.94447594, 0.99331331, 1.4074073 ],\n",
       "       [0.98396129, 1.09506945, 1.41872938],\n",
       "       [0.986575  , 1.077641  , 1.39488167],\n",
       "       [0.98089169, 1.08205107, 1.42927008],\n",
       "       [0.9962442 , 1.02064618, 1.34504431],\n",
       "       [0.9627645 , 1.06837131, 1.40503808],\n",
       "       [0.9424278 , 1.03625425, 1.41379602],\n",
       "       [1.00232422, 1.08254595, 1.41422446],\n",
       "       [0.96915631, 1.07166613, 1.40410889],\n",
       "       [0.9915552 , 1.09164944, 1.40227   ],\n",
       "       [0.98627377, 1.06173472, 1.40102649],\n",
       "       [0.94613549, 1.07297507, 1.33048629],\n",
       "       [0.95191973, 1.08090959, 1.40702422],\n",
       "       [0.92554727, 1.01101605, 1.46773704],\n",
       "       [0.94881137, 1.0563601 , 1.39627067],\n",
       "       [0.97299304, 1.04657393, 1.39915344]])"
      ]
     },
     "execution_count": 118,
     "metadata": {},
     "output_type": "execute_result"
    }
   ],
   "source": [
    "results_qsar"
   ]
  },
  {
   "cell_type": "code",
   "execution_count": 119,
   "metadata": {},
   "outputs": [
    {
     "data": {
      "text/plain": [
       "array([0.97114967, 1.06184988, 1.40301321])"
      ]
     },
     "execution_count": 119,
     "metadata": {},
     "output_type": "execute_result"
    }
   ],
   "source": [
    "results_qsar.mean(axis=0)"
   ]
  },
  {
   "cell_type": "code",
   "execution_count": null,
   "metadata": {},
   "outputs": [],
   "source": []
  }
 ],
 "metadata": {
  "kernelspec": {
   "display_name": "Python 3",
   "language": "python",
   "name": "python3"
  },
  "language_info": {
   "codemirror_mode": {
    "name": "ipython",
    "version": 3
   },
   "file_extension": ".py",
   "mimetype": "text/x-python",
   "name": "python",
   "nbconvert_exporter": "python",
   "pygments_lexer": "ipython3",
   "version": "3.7.8"
  }
 },
 "nbformat": 4,
 "nbformat_minor": 4
}
