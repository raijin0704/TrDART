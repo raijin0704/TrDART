{
 "cells": [
  {
   "cell_type": "code",
   "execution_count": 1,
   "metadata": {},
   "outputs": [],
   "source": [
    "from ruamel.yaml import YAML"
   ]
  },
  {
   "cell_type": "code",
   "execution_count": 9,
   "metadata": {},
   "outputs": [],
   "source": [
    "CONFIG_DIR = \"../configs/experiments_uci.yml\""
   ]
  },
  {
   "cell_type": "code",
   "execution_count": 10,
   "metadata": {},
   "outputs": [],
   "source": [
    "# config読み込み\n",
    "yaml = YAML()\n",
    "config = yaml.load(open(CONFIG_DIR, encoding='utf-8'))"
   ]
  },
  {
   "cell_type": "code",
   "execution_count": 11,
   "metadata": {},
   "outputs": [
    {
     "data": {
      "text/plain": [
       "ordereddict([('datasets', ordereddict([('auto_mobile', ordereddict([('dataset_name', 'auto_mobile'), ('split_feature_name', 'bore'), ('y_feature', 'price'), ('split_feature', 'bore'), ('n_domains', 3)])), ('autoMPG', ordereddict([('dataset_name', 'autpMPG'), ('split_feature_name', 'acceleration'), ('y_feature', 'mpg'), ('split_feature', 'acceleration'), ('n_domains', 3)])), ('concrete', ordereddict([('dataset_name', 'concrete'), ('split_feature_name', 'Superplasticizer'), ('y_feature', 'Concrete compressive strength(MPa, megapascals) '), ('split_feature', 'Superplasticizer (component 5)(kg in a m^3 mixture)'), ('n_domains', 3)])), ('housing', ordereddict([('dataset_name', 'housing'), ('split_feature_name', 'NOX'), ('y_feature', 'MEDV'), ('split_feature', 'NOX'), ('n_domains', 3)]))])), ('experiments', ordereddict([('experiment_name', 'baseline'), ('n_experiments', 30), ('n_targets', 25), ('source_sampling', False), ('methods', ['target AdaBoost', 'all AdaBoost', 'two-stage TrAdaBoost'])])), ('model_params', ordereddict([('AdaBoost', ordereddict([('n_estimators', 30), ('base_estimator', 'DecisionTreeRegressor'), ('max_depth', 4)])), ('two-stage TrAdaBoost', ordereddict([('n_estimators', 30), ('steps', 30), ('folds', 10), ('base_estimator', 'DecisionTreeRegressor'), ('max_depth', 4)]))]))])"
      ]
     },
     "execution_count": 11,
     "metadata": {},
     "output_type": "execute_result"
    }
   ],
   "source": [
    "config"
   ]
  },
  {
   "cell_type": "code",
   "execution_count": 12,
   "metadata": {},
   "outputs": [
    {
     "data": {
      "text/plain": [
       "['target AdaBoost', 'all AdaBoost', 'two-stage TrAdaBoost']"
      ]
     },
     "execution_count": 12,
     "metadata": {},
     "output_type": "execute_result"
    }
   ],
   "source": [
    "config[\"experiments\"][\"methods\"]"
   ]
  },
  {
   "cell_type": "code",
   "execution_count": null,
   "metadata": {},
   "outputs": [],
   "source": []
  }
 ],
 "metadata": {
  "kernelspec": {
   "display_name": "Python 3",
   "language": "python",
   "name": "python3"
  },
  "language_info": {
   "codemirror_mode": {
    "name": "ipython",
    "version": 3
   },
   "file_extension": ".py",
   "mimetype": "text/x-python",
   "name": "python",
   "nbconvert_exporter": "python",
   "pygments_lexer": "ipython3",
   "version": "3.7.3"
  }
 },
 "nbformat": 4,
 "nbformat_minor": 4
}
