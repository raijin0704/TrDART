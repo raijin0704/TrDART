{
 "cells": [
  {
   "cell_type": "code",
   "execution_count": 1,
   "metadata": {},
   "outputs": [],
   "source": [
    "import pandas as pd\n",
    "import numpy as np\n",
    "import matplotlib.pyplot as plt\n",
    "import seaborn as sns"
   ]
  },
  {
   "cell_type": "code",
   "execution_count": 2,
   "metadata": {},
   "outputs": [],
   "source": [
    "from sklearn.preprocessing import OneHotEncoder\n",
    "from sklearn.manifold import TSNE"
   ]
  },
  {
   "cell_type": "code",
   "execution_count": 3,
   "metadata": {},
   "outputs": [],
   "source": [
    "DATASET_DIR = \"../dataset/regression/concrete\"\n",
    "SAVE_NAME = \"concrete_ori.csv\""
   ]
  },
  {
   "cell_type": "code",
   "execution_count": 4,
   "metadata": {},
   "outputs": [
    {
     "data": {
      "text/html": [
       "<div>\n",
       "<style scoped>\n",
       "    .dataframe tbody tr th:only-of-type {\n",
       "        vertical-align: middle;\n",
       "    }\n",
       "\n",
       "    .dataframe tbody tr th {\n",
       "        vertical-align: top;\n",
       "    }\n",
       "\n",
       "    .dataframe thead th {\n",
       "        text-align: right;\n",
       "    }\n",
       "</style>\n",
       "<table border=\"1\" class=\"dataframe\">\n",
       "  <thead>\n",
       "    <tr style=\"text-align: right;\">\n",
       "      <th></th>\n",
       "      <th>Cement</th>\n",
       "      <th>Blast Furnace Slag</th>\n",
       "      <th>Fly Ash</th>\n",
       "      <th>Water</th>\n",
       "      <th>Superplasticizer</th>\n",
       "      <th>Coarse Aggregate</th>\n",
       "      <th>Fine Aggregate</th>\n",
       "      <th>Age</th>\n",
       "      <th>Concrete compressive strength</th>\n",
       "    </tr>\n",
       "  </thead>\n",
       "  <tbody>\n",
       "    <tr>\n",
       "      <th>0</th>\n",
       "      <td>540.0</td>\n",
       "      <td>0.0</td>\n",
       "      <td>0.0</td>\n",
       "      <td>162.0</td>\n",
       "      <td>2.5</td>\n",
       "      <td>1055.0</td>\n",
       "      <td>676.0</td>\n",
       "      <td>28</td>\n",
       "      <td>61.887366</td>\n",
       "    </tr>\n",
       "    <tr>\n",
       "      <th>1</th>\n",
       "      <td>332.5</td>\n",
       "      <td>142.5</td>\n",
       "      <td>0.0</td>\n",
       "      <td>228.0</td>\n",
       "      <td>0.0</td>\n",
       "      <td>932.0</td>\n",
       "      <td>594.0</td>\n",
       "      <td>270</td>\n",
       "      <td>40.269535</td>\n",
       "    </tr>\n",
       "    <tr>\n",
       "      <th>2</th>\n",
       "      <td>332.5</td>\n",
       "      <td>142.5</td>\n",
       "      <td>0.0</td>\n",
       "      <td>228.0</td>\n",
       "      <td>0.0</td>\n",
       "      <td>932.0</td>\n",
       "      <td>594.0</td>\n",
       "      <td>365</td>\n",
       "      <td>41.052780</td>\n",
       "    </tr>\n",
       "    <tr>\n",
       "      <th>3</th>\n",
       "      <td>198.6</td>\n",
       "      <td>132.4</td>\n",
       "      <td>0.0</td>\n",
       "      <td>192.0</td>\n",
       "      <td>0.0</td>\n",
       "      <td>978.4</td>\n",
       "      <td>825.5</td>\n",
       "      <td>360</td>\n",
       "      <td>44.296075</td>\n",
       "    </tr>\n",
       "    <tr>\n",
       "      <th>4</th>\n",
       "      <td>266.0</td>\n",
       "      <td>114.0</td>\n",
       "      <td>0.0</td>\n",
       "      <td>228.0</td>\n",
       "      <td>0.0</td>\n",
       "      <td>932.0</td>\n",
       "      <td>670.0</td>\n",
       "      <td>90</td>\n",
       "      <td>47.029847</td>\n",
       "    </tr>\n",
       "    <tr>\n",
       "      <th>...</th>\n",
       "      <td>...</td>\n",
       "      <td>...</td>\n",
       "      <td>...</td>\n",
       "      <td>...</td>\n",
       "      <td>...</td>\n",
       "      <td>...</td>\n",
       "      <td>...</td>\n",
       "      <td>...</td>\n",
       "      <td>...</td>\n",
       "    </tr>\n",
       "    <tr>\n",
       "      <th>1024</th>\n",
       "      <td>276.4</td>\n",
       "      <td>116.0</td>\n",
       "      <td>90.3</td>\n",
       "      <td>179.6</td>\n",
       "      <td>8.9</td>\n",
       "      <td>870.1</td>\n",
       "      <td>768.3</td>\n",
       "      <td>28</td>\n",
       "      <td>44.284354</td>\n",
       "    </tr>\n",
       "    <tr>\n",
       "      <th>1025</th>\n",
       "      <td>322.2</td>\n",
       "      <td>0.0</td>\n",
       "      <td>115.6</td>\n",
       "      <td>196.0</td>\n",
       "      <td>10.4</td>\n",
       "      <td>817.9</td>\n",
       "      <td>813.4</td>\n",
       "      <td>28</td>\n",
       "      <td>31.178794</td>\n",
       "    </tr>\n",
       "    <tr>\n",
       "      <th>1026</th>\n",
       "      <td>148.5</td>\n",
       "      <td>139.4</td>\n",
       "      <td>108.6</td>\n",
       "      <td>192.7</td>\n",
       "      <td>6.1</td>\n",
       "      <td>892.4</td>\n",
       "      <td>780.0</td>\n",
       "      <td>28</td>\n",
       "      <td>23.696601</td>\n",
       "    </tr>\n",
       "    <tr>\n",
       "      <th>1027</th>\n",
       "      <td>159.1</td>\n",
       "      <td>186.7</td>\n",
       "      <td>0.0</td>\n",
       "      <td>175.6</td>\n",
       "      <td>11.3</td>\n",
       "      <td>989.6</td>\n",
       "      <td>788.9</td>\n",
       "      <td>28</td>\n",
       "      <td>32.768036</td>\n",
       "    </tr>\n",
       "    <tr>\n",
       "      <th>1028</th>\n",
       "      <td>260.9</td>\n",
       "      <td>100.5</td>\n",
       "      <td>78.3</td>\n",
       "      <td>200.6</td>\n",
       "      <td>8.6</td>\n",
       "      <td>864.5</td>\n",
       "      <td>761.5</td>\n",
       "      <td>28</td>\n",
       "      <td>32.401235</td>\n",
       "    </tr>\n",
       "  </tbody>\n",
       "</table>\n",
       "<p>1029 rows × 9 columns</p>\n",
       "</div>"
      ],
      "text/plain": [
       "      Cement  Blast Furnace Slag  Fly Ash  Water  Superplasticizer  \\\n",
       "0      540.0                 0.0      0.0  162.0               2.5   \n",
       "1      332.5               142.5      0.0  228.0               0.0   \n",
       "2      332.5               142.5      0.0  228.0               0.0   \n",
       "3      198.6               132.4      0.0  192.0               0.0   \n",
       "4      266.0               114.0      0.0  228.0               0.0   \n",
       "...      ...                 ...      ...    ...               ...   \n",
       "1024   276.4               116.0     90.3  179.6               8.9   \n",
       "1025   322.2                 0.0    115.6  196.0              10.4   \n",
       "1026   148.5               139.4    108.6  192.7               6.1   \n",
       "1027   159.1               186.7      0.0  175.6              11.3   \n",
       "1028   260.9               100.5     78.3  200.6               8.6   \n",
       "\n",
       "      Coarse Aggregate  Fine Aggregate  Age  Concrete compressive strength  \n",
       "0               1055.0           676.0   28                      61.887366  \n",
       "1                932.0           594.0  270                      40.269535  \n",
       "2                932.0           594.0  365                      41.052780  \n",
       "3                978.4           825.5  360                      44.296075  \n",
       "4                932.0           670.0   90                      47.029847  \n",
       "...                ...             ...  ...                            ...  \n",
       "1024             870.1           768.3   28                      44.284354  \n",
       "1025             817.9           813.4   28                      31.178794  \n",
       "1026             892.4           780.0   28                      23.696601  \n",
       "1027             989.6           788.9   28                      32.768036  \n",
       "1028             864.5           761.5   28                      32.401235  \n",
       "\n",
       "[1029 rows x 9 columns]"
      ]
     },
     "execution_count": 4,
     "metadata": {},
     "output_type": "execute_result"
    }
   ],
   "source": [
    "df = pd.read_csv(f\"{DATASET_DIR}/{SAVE_NAME}\")\n",
    "df"
   ]
  },
  {
   "cell_type": "code",
   "execution_count": 5,
   "metadata": {},
   "outputs": [],
   "source": [
    "y_feature = \"Concrete compressive strength\""
   ]
  },
  {
   "cell_type": "code",
   "execution_count": 6,
   "metadata": {},
   "outputs": [
    {
     "data": {
      "text/plain": [
       "Water                           -0.288356\n",
       "Coarse Aggregate                -0.167779\n",
       "Fine Aggregate                  -0.164798\n",
       "Fly Ash                         -0.103966\n",
       "Blast Furnace Slag               0.137545\n",
       "Age                              0.330735\n",
       "Superplasticizer                 0.369022\n",
       "Cement                           0.494620\n",
       "Concrete compressive strength    1.000000\n",
       "Name: Concrete compressive strength, dtype: float64"
      ]
     },
     "execution_count": 6,
     "metadata": {},
     "output_type": "execute_result"
    }
   ],
   "source": [
    "df.corr().iloc[-1,:].sort_values()"
   ]
  },
  {
   "cell_type": "code",
   "execution_count": 7,
   "metadata": {},
   "outputs": [
    {
     "data": {
      "text/html": [
       "<div>\n",
       "<style scoped>\n",
       "    .dataframe tbody tr th:only-of-type {\n",
       "        vertical-align: middle;\n",
       "    }\n",
       "\n",
       "    .dataframe tbody tr th {\n",
       "        vertical-align: top;\n",
       "    }\n",
       "\n",
       "    .dataframe thead th {\n",
       "        text-align: right;\n",
       "    }\n",
       "</style>\n",
       "<table border=\"1\" class=\"dataframe\">\n",
       "  <thead>\n",
       "    <tr style=\"text-align: right;\">\n",
       "      <th></th>\n",
       "      <th>Cement</th>\n",
       "      <th>Blast Furnace Slag</th>\n",
       "      <th>Fly Ash</th>\n",
       "      <th>Water</th>\n",
       "      <th>Superplasticizer</th>\n",
       "      <th>Coarse Aggregate</th>\n",
       "      <th>Fine Aggregate</th>\n",
       "      <th>Age</th>\n",
       "      <th>Concrete compressive strength</th>\n",
       "    </tr>\n",
       "  </thead>\n",
       "  <tbody>\n",
       "    <tr>\n",
       "      <th>Cement</th>\n",
       "      <td>1.000000</td>\n",
       "      <td>-0.274046</td>\n",
       "      <td>-0.396759</td>\n",
       "      <td>-0.079606</td>\n",
       "      <td>0.094565</td>\n",
       "      <td>-0.111809</td>\n",
       "      <td>-0.220606</td>\n",
       "      <td>0.082872</td>\n",
       "      <td>0.494620</td>\n",
       "    </tr>\n",
       "    <tr>\n",
       "      <th>Blast Furnace Slag</th>\n",
       "      <td>-0.274046</td>\n",
       "      <td>1.000000</td>\n",
       "      <td>-0.324504</td>\n",
       "      <td>0.106604</td>\n",
       "      <td>0.042883</td>\n",
       "      <td>-0.283483</td>\n",
       "      <td>-0.282912</td>\n",
       "      <td>-0.044496</td>\n",
       "      <td>0.137545</td>\n",
       "    </tr>\n",
       "    <tr>\n",
       "      <th>Fly Ash</th>\n",
       "      <td>-0.396759</td>\n",
       "      <td>-0.324504</td>\n",
       "      <td>1.000000</td>\n",
       "      <td>-0.257994</td>\n",
       "      <td>0.377031</td>\n",
       "      <td>-0.009273</td>\n",
       "      <td>0.078157</td>\n",
       "      <td>-0.154660</td>\n",
       "      <td>-0.103966</td>\n",
       "    </tr>\n",
       "    <tr>\n",
       "      <th>Water</th>\n",
       "      <td>-0.079606</td>\n",
       "      <td>0.106604</td>\n",
       "      <td>-0.257994</td>\n",
       "      <td>1.000000</td>\n",
       "      <td>-0.658409</td>\n",
       "      <td>-0.181683</td>\n",
       "      <td>-0.452230</td>\n",
       "      <td>0.277479</td>\n",
       "      <td>-0.288356</td>\n",
       "    </tr>\n",
       "    <tr>\n",
       "      <th>Superplasticizer</th>\n",
       "      <td>0.094565</td>\n",
       "      <td>0.042883</td>\n",
       "      <td>0.377031</td>\n",
       "      <td>-0.658409</td>\n",
       "      <td>1.000000</td>\n",
       "      <td>-0.265928</td>\n",
       "      <td>0.221969</td>\n",
       "      <td>-0.192929</td>\n",
       "      <td>0.369022</td>\n",
       "    </tr>\n",
       "    <tr>\n",
       "      <th>Coarse Aggregate</th>\n",
       "      <td>-0.111809</td>\n",
       "      <td>-0.283483</td>\n",
       "      <td>-0.009273</td>\n",
       "      <td>-0.181683</td>\n",
       "      <td>-0.265928</td>\n",
       "      <td>1.000000</td>\n",
       "      <td>-0.177677</td>\n",
       "      <td>-0.002782</td>\n",
       "      <td>-0.167779</td>\n",
       "    </tr>\n",
       "    <tr>\n",
       "      <th>Fine Aggregate</th>\n",
       "      <td>-0.220606</td>\n",
       "      <td>-0.282912</td>\n",
       "      <td>0.078157</td>\n",
       "      <td>-0.452230</td>\n",
       "      <td>0.221969</td>\n",
       "      <td>-0.177677</td>\n",
       "      <td>1.000000</td>\n",
       "      <td>-0.156544</td>\n",
       "      <td>-0.164798</td>\n",
       "    </tr>\n",
       "    <tr>\n",
       "      <th>Age</th>\n",
       "      <td>0.082872</td>\n",
       "      <td>-0.044496</td>\n",
       "      <td>-0.154660</td>\n",
       "      <td>0.277479</td>\n",
       "      <td>-0.192929</td>\n",
       "      <td>-0.002782</td>\n",
       "      <td>-0.156544</td>\n",
       "      <td>1.000000</td>\n",
       "      <td>0.330735</td>\n",
       "    </tr>\n",
       "    <tr>\n",
       "      <th>Concrete compressive strength</th>\n",
       "      <td>0.494620</td>\n",
       "      <td>0.137545</td>\n",
       "      <td>-0.103966</td>\n",
       "      <td>-0.288356</td>\n",
       "      <td>0.369022</td>\n",
       "      <td>-0.167779</td>\n",
       "      <td>-0.164798</td>\n",
       "      <td>0.330735</td>\n",
       "      <td>1.000000</td>\n",
       "    </tr>\n",
       "  </tbody>\n",
       "</table>\n",
       "</div>"
      ],
      "text/plain": [
       "                                 Cement  Blast Furnace Slag   Fly Ash  \\\n",
       "Cement                         1.000000           -0.274046 -0.396759   \n",
       "Blast Furnace Slag            -0.274046            1.000000 -0.324504   \n",
       "Fly Ash                       -0.396759           -0.324504  1.000000   \n",
       "Water                         -0.079606            0.106604 -0.257994   \n",
       "Superplasticizer               0.094565            0.042883  0.377031   \n",
       "Coarse Aggregate              -0.111809           -0.283483 -0.009273   \n",
       "Fine Aggregate                -0.220606           -0.282912  0.078157   \n",
       "Age                            0.082872           -0.044496 -0.154660   \n",
       "Concrete compressive strength  0.494620            0.137545 -0.103966   \n",
       "\n",
       "                                  Water  Superplasticizer  Coarse Aggregate  \\\n",
       "Cement                        -0.079606          0.094565         -0.111809   \n",
       "Blast Furnace Slag             0.106604          0.042883         -0.283483   \n",
       "Fly Ash                       -0.257994          0.377031         -0.009273   \n",
       "Water                          1.000000         -0.658409         -0.181683   \n",
       "Superplasticizer              -0.658409          1.000000         -0.265928   \n",
       "Coarse Aggregate              -0.181683         -0.265928          1.000000   \n",
       "Fine Aggregate                -0.452230          0.221969         -0.177677   \n",
       "Age                            0.277479         -0.192929         -0.002782   \n",
       "Concrete compressive strength -0.288356          0.369022         -0.167779   \n",
       "\n",
       "                               Fine Aggregate       Age  \\\n",
       "Cement                              -0.220606  0.082872   \n",
       "Blast Furnace Slag                  -0.282912 -0.044496   \n",
       "Fly Ash                              0.078157 -0.154660   \n",
       "Water                               -0.452230  0.277479   \n",
       "Superplasticizer                     0.221969 -0.192929   \n",
       "Coarse Aggregate                    -0.177677 -0.002782   \n",
       "Fine Aggregate                       1.000000 -0.156544   \n",
       "Age                                 -0.156544  1.000000   \n",
       "Concrete compressive strength       -0.164798  0.330735   \n",
       "\n",
       "                               Concrete compressive strength  \n",
       "Cement                                              0.494620  \n",
       "Blast Furnace Slag                                  0.137545  \n",
       "Fly Ash                                            -0.103966  \n",
       "Water                                              -0.288356  \n",
       "Superplasticizer                                    0.369022  \n",
       "Coarse Aggregate                                   -0.167779  \n",
       "Fine Aggregate                                     -0.164798  \n",
       "Age                                                 0.330735  \n",
       "Concrete compressive strength                       1.000000  "
      ]
     },
     "execution_count": 7,
     "metadata": {},
     "output_type": "execute_result"
    }
   ],
   "source": [
    "df.corr()"
   ]
  },
  {
   "cell_type": "code",
   "execution_count": 8,
   "metadata": {},
   "outputs": [
    {
     "data": {
      "text/plain": [
       "0.0     379\n",
       "8.0      27\n",
       "11.6     21\n",
       "7.0      19\n",
       "6.0      17\n",
       "       ... \n",
       "6.6       1\n",
       "12.2      1\n",
       "15.6      1\n",
       "20.8      1\n",
       "2.5       1\n",
       "Name: Superplasticizer, Length: 155, dtype: int64"
      ]
     },
     "execution_count": 8,
     "metadata": {},
     "output_type": "execute_result"
    }
   ],
   "source": [
    "df[\"Superplasticizer\"].value_counts()"
   ]
  },
  {
   "cell_type": "code",
   "execution_count": 15,
   "metadata": {},
   "outputs": [
    {
     "data": {
      "text/plain": [
       "28     424\n",
       "3      134\n",
       "7      126\n",
       "56      91\n",
       "14      62\n",
       "90      54\n",
       "100     52\n",
       "180     26\n",
       "91      22\n",
       "365     14\n",
       "270     13\n",
       "360      6\n",
       "120      3\n",
       "1        2\n",
       "Name: Age, dtype: int64"
      ]
     },
     "execution_count": 15,
     "metadata": {},
     "output_type": "execute_result"
    }
   ],
   "source": [
    "df[\"Age\"].value_counts()"
   ]
  },
  {
   "cell_type": "code",
   "execution_count": 33,
   "metadata": {},
   "outputs": [
    {
     "data": {
      "text/plain": [
       "192.0    118\n",
       "228.0     54\n",
       "185.7     46\n",
       "203.5     36\n",
       "186.0     28\n",
       "        ... \n",
       "218.0      1\n",
       "177.0      1\n",
       "127.0      1\n",
       "198.7      1\n",
       "184.4      1\n",
       "Name: Water, Length: 205, dtype: int64"
      ]
     },
     "execution_count": 33,
     "metadata": {},
     "output_type": "execute_result"
    }
   ],
   "source": [
    "df[\"Water\"].value_counts()"
   ]
  },
  {
   "cell_type": "code",
   "execution_count": 17,
   "metadata": {},
   "outputs": [
    {
     "data": {
      "text/plain": [
       "425.00    20\n",
       "362.60    20\n",
       "251.37    15\n",
       "446.00    14\n",
       "310.00    14\n",
       "          ..\n",
       "259.90     1\n",
       "139.90     1\n",
       "136.40     1\n",
       "266.20     1\n",
       "321.30     1\n",
       "Name: Cement, Length: 280, dtype: int64"
      ]
     },
     "execution_count": 17,
     "metadata": {},
     "output_type": "execute_result"
    }
   ],
   "source": [
    "df[\"Cement\"].value_counts()"
   ]
  },
  {
   "cell_type": "code",
   "execution_count": 19,
   "metadata": {},
   "outputs": [
    {
     "data": {
      "text/plain": [
       "0    344\n",
       "2    343\n",
       "1    342\n",
       "Name: Cement, dtype: int64"
      ]
     },
     "execution_count": 19,
     "metadata": {},
     "output_type": "execute_result"
    }
   ],
   "source": [
    "pd.qcut(df[\"Cement\"], 3, labels=['0', '1', '2']).value_counts()"
   ]
  },
  {
   "cell_type": "code",
   "execution_count": 34,
   "metadata": {},
   "outputs": [
    {
     "data": {
      "text/plain": [
       "1    427\n",
       "0    349\n",
       "2    253\n",
       "Name: Water, dtype: int64"
      ]
     },
     "execution_count": 34,
     "metadata": {},
     "output_type": "execute_result"
    }
   ],
   "source": [
    "pd.qcut(df[\"Water\"], 3, labels=['0', '1', '2']).value_counts()"
   ]
  },
  {
   "cell_type": "code",
   "execution_count": 29,
   "metadata": {},
   "outputs": [
    {
     "data": {
      "text/plain": [
       "1    326\n",
       "2    324\n",
       "Name: Superplasticizer, dtype: int64"
      ]
     },
     "execution_count": 29,
     "metadata": {},
     "output_type": "execute_result"
    }
   ],
   "source": [
    "df_labels12 = df[df[\"Superplasticizer\"]>0]\n",
    "pd.qcut(df_labels12[\"Superplasticizer\"], 2, labels=['1', '2']).value_counts()"
   ]
  },
  {
   "cell_type": "code",
   "execution_count": 32,
   "metadata": {},
   "outputs": [
    {
     "data": {
      "text/plain": [
       "0    379\n",
       "1    326\n",
       "2    324\n",
       "dtype: int64"
      ]
     },
     "execution_count": 32,
     "metadata": {},
     "output_type": "execute_result"
    }
   ],
   "source": [
    "domain = pd.Series(0,index=df.index)\n",
    "domain[df_labels12.index] = pd.qcut(df_labels12[\"Superplasticizer\"], 2, labels=['1', '2'])\n",
    "domain.value_counts()"
   ]
  },
  {
   "cell_type": "code",
   "execution_count": null,
   "metadata": {},
   "outputs": [],
   "source": []
  }
 ],
 "metadata": {
  "kernelspec": {
   "display_name": "Python 3",
   "language": "python",
   "name": "python3"
  },
  "language_info": {
   "codemirror_mode": {
    "name": "ipython",
    "version": 3
   },
   "file_extension": ".py",
   "mimetype": "text/x-python",
   "name": "python",
   "nbconvert_exporter": "python",
   "pygments_lexer": "ipython3",
   "version": "3.7.8"
  }
 },
 "nbformat": 4,
 "nbformat_minor": 4
}
