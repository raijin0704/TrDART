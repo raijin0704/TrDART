{
 "cells": [
  {
   "cell_type": "code",
   "execution_count": 1,
   "metadata": {},
   "outputs": [
    {
     "data": {
      "text/plain": [
       "'C:\\\\Users\\\\頼仁\\\\Documents\\\\github\\\\TrAdaBoost2\\\\notebook'"
      ]
     },
     "execution_count": 1,
     "metadata": {},
     "output_type": "execute_result"
    }
   ],
   "source": [
    "import os\n",
    "# os.chdir('../')\n",
    "os.getcwd()"
   ]
  },
  {
   "cell_type": "code",
   "execution_count": 2,
   "metadata": {},
   "outputs": [],
   "source": [
    "import sys\n",
    "# sys.path.append('../../scikit-learn/')\n",
    "sys.path.append('../my-scikit-learn/')"
   ]
  },
  {
   "cell_type": "code",
   "execution_count": 3,
   "metadata": {},
   "outputs": [],
   "source": [
    "import sklearn"
   ]
  },
  {
   "cell_type": "code",
   "execution_count": 4,
   "metadata": {},
   "outputs": [
    {
     "data": {
      "text/plain": [
       "<module 'sklearn' from 'c:\\\\users\\\\頼仁\\\\documents\\\\github\\\\scikit-learn\\\\sklearn\\\\__init__.py'>"
      ]
     },
     "execution_count": 4,
     "metadata": {},
     "output_type": "execute_result"
    }
   ],
   "source": [
    "import importlib\n",
    "importlib.reload(sklearn) "
   ]
  },
  {
   "cell_type": "code",
   "execution_count": 5,
   "metadata": {},
   "outputs": [],
   "source": [
    "import pandas as pd\n",
    "import numpy as np\n",
    "from scipy.io import arff\n",
    "\n",
    "from sklearn.metrics import mean_squared_error\n",
    "from sklearn.ensemble import GradientBoostingRegressor"
   ]
  },
  {
   "cell_type": "code",
   "execution_count": 6,
   "metadata": {},
   "outputs": [],
   "source": [
    "import warnings\n",
    "from sklearn.exceptions import ConvergenceWarning\n",
    "warnings.simplefilter('ignore', ConvergenceWarning)"
   ]
  },
  {
   "cell_type": "code",
   "execution_count": 7,
   "metadata": {},
   "outputs": [],
   "source": [
    "def make_dataset_concrete():\n",
    "    data = arff.loadarff('../dataset/transfer data/concrete1.arff')\n",
    "    df1 = pd.DataFrame(data[0])\n",
    "    df1[\"label\"] = 0\n",
    "    data = arff.loadarff('../dataset/transfer data/concrete2.arff')\n",
    "    df2 = pd.DataFrame(data[0])\n",
    "    df2[\"label\"] = 1\n",
    "    data = arff.loadarff('../dataset/transfer data/concrete3.arff')\n",
    "    df3 = pd.DataFrame(data[0])\n",
    "    df3[\"label\"] = 2\n",
    "    df = pd.concat([df1, df2, df3], sort=False).reset_index(drop=True)\n",
    "    return df"
   ]
  },
  {
   "cell_type": "code",
   "execution_count": 8,
   "metadata": {},
   "outputs": [
    {
     "data": {
      "text/html": [
       "<div>\n",
       "<style scoped>\n",
       "    .dataframe tbody tr th:only-of-type {\n",
       "        vertical-align: middle;\n",
       "    }\n",
       "\n",
       "    .dataframe tbody tr th {\n",
       "        vertical-align: top;\n",
       "    }\n",
       "\n",
       "    .dataframe thead th {\n",
       "        text-align: right;\n",
       "    }\n",
       "</style>\n",
       "<table border=\"1\" class=\"dataframe\">\n",
       "  <thead>\n",
       "    <tr style=\"text-align: right;\">\n",
       "      <th></th>\n",
       "      <th>b</th>\n",
       "      <th>c</th>\n",
       "      <th>d</th>\n",
       "      <th>e</th>\n",
       "      <th>f</th>\n",
       "      <th>g</th>\n",
       "      <th>h</th>\n",
       "      <th>i</th>\n",
       "      <th>label</th>\n",
       "    </tr>\n",
       "  </thead>\n",
       "  <tbody>\n",
       "    <tr>\n",
       "      <th>0</th>\n",
       "      <td>153.0</td>\n",
       "      <td>0.0</td>\n",
       "      <td>192.0</td>\n",
       "      <td>0.0</td>\n",
       "      <td>887.0</td>\n",
       "      <td>942.0</td>\n",
       "      <td>3.0</td>\n",
       "      <td>4.57</td>\n",
       "      <td>0</td>\n",
       "    </tr>\n",
       "    <tr>\n",
       "      <th>1</th>\n",
       "      <td>153.0</td>\n",
       "      <td>0.0</td>\n",
       "      <td>192.0</td>\n",
       "      <td>0.0</td>\n",
       "      <td>887.0</td>\n",
       "      <td>942.0</td>\n",
       "      <td>90.0</td>\n",
       "      <td>25.46</td>\n",
       "      <td>0</td>\n",
       "    </tr>\n",
       "    <tr>\n",
       "      <th>2</th>\n",
       "      <td>153.0</td>\n",
       "      <td>0.0</td>\n",
       "      <td>192.0</td>\n",
       "      <td>0.0</td>\n",
       "      <td>887.0</td>\n",
       "      <td>942.0</td>\n",
       "      <td>7.0</td>\n",
       "      <td>7.68</td>\n",
       "      <td>0</td>\n",
       "    </tr>\n",
       "    <tr>\n",
       "      <th>3</th>\n",
       "      <td>153.0</td>\n",
       "      <td>0.0</td>\n",
       "      <td>192.0</td>\n",
       "      <td>0.0</td>\n",
       "      <td>887.0</td>\n",
       "      <td>942.0</td>\n",
       "      <td>28.0</td>\n",
       "      <td>17.28</td>\n",
       "      <td>0</td>\n",
       "    </tr>\n",
       "    <tr>\n",
       "      <th>4</th>\n",
       "      <td>162.4</td>\n",
       "      <td>0.0</td>\n",
       "      <td>203.5</td>\n",
       "      <td>0.0</td>\n",
       "      <td>938.2</td>\n",
       "      <td>849.0</td>\n",
       "      <td>28.0</td>\n",
       "      <td>20.59</td>\n",
       "      <td>0</td>\n",
       "    </tr>\n",
       "    <tr>\n",
       "      <th>...</th>\n",
       "      <td>...</td>\n",
       "      <td>...</td>\n",
       "      <td>...</td>\n",
       "      <td>...</td>\n",
       "      <td>...</td>\n",
       "      <td>...</td>\n",
       "      <td>...</td>\n",
       "      <td>...</td>\n",
       "      <td>...</td>\n",
       "    </tr>\n",
       "    <tr>\n",
       "      <th>1025</th>\n",
       "      <td>0.0</td>\n",
       "      <td>0.0</td>\n",
       "      <td>173.0</td>\n",
       "      <td>0.0</td>\n",
       "      <td>1125.0</td>\n",
       "      <td>613.0</td>\n",
       "      <td>28.0</td>\n",
       "      <td>67.31</td>\n",
       "      <td>2</td>\n",
       "    </tr>\n",
       "    <tr>\n",
       "      <th>1026</th>\n",
       "      <td>0.0</td>\n",
       "      <td>0.0</td>\n",
       "      <td>173.0</td>\n",
       "      <td>0.0</td>\n",
       "      <td>1125.0</td>\n",
       "      <td>613.0</td>\n",
       "      <td>90.0</td>\n",
       "      <td>69.66</td>\n",
       "      <td>2</td>\n",
       "    </tr>\n",
       "    <tr>\n",
       "      <th>1027</th>\n",
       "      <td>0.0</td>\n",
       "      <td>0.0</td>\n",
       "      <td>173.0</td>\n",
       "      <td>0.0</td>\n",
       "      <td>1125.0</td>\n",
       "      <td>613.0</td>\n",
       "      <td>180.0</td>\n",
       "      <td>71.62</td>\n",
       "      <td>2</td>\n",
       "    </tr>\n",
       "    <tr>\n",
       "      <th>1028</th>\n",
       "      <td>0.0</td>\n",
       "      <td>0.0</td>\n",
       "      <td>173.0</td>\n",
       "      <td>0.0</td>\n",
       "      <td>1125.0</td>\n",
       "      <td>613.0</td>\n",
       "      <td>270.0</td>\n",
       "      <td>74.17</td>\n",
       "      <td>2</td>\n",
       "    </tr>\n",
       "    <tr>\n",
       "      <th>1029</th>\n",
       "      <td>0.0</td>\n",
       "      <td>0.0</td>\n",
       "      <td>173.0</td>\n",
       "      <td>0.0</td>\n",
       "      <td>1125.0</td>\n",
       "      <td>613.0</td>\n",
       "      <td>3.0</td>\n",
       "      <td>41.64</td>\n",
       "      <td>2</td>\n",
       "    </tr>\n",
       "  </tbody>\n",
       "</table>\n",
       "<p>1030 rows × 9 columns</p>\n",
       "</div>"
      ],
      "text/plain": [
       "          b    c      d    e       f      g      h      i  label\n",
       "0     153.0  0.0  192.0  0.0   887.0  942.0    3.0   4.57      0\n",
       "1     153.0  0.0  192.0  0.0   887.0  942.0   90.0  25.46      0\n",
       "2     153.0  0.0  192.0  0.0   887.0  942.0    7.0   7.68      0\n",
       "3     153.0  0.0  192.0  0.0   887.0  942.0   28.0  17.28      0\n",
       "4     162.4  0.0  203.5  0.0   938.2  849.0   28.0  20.59      0\n",
       "...     ...  ...    ...  ...     ...    ...    ...    ...    ...\n",
       "1025    0.0  0.0  173.0  0.0  1125.0  613.0   28.0  67.31      2\n",
       "1026    0.0  0.0  173.0  0.0  1125.0  613.0   90.0  69.66      2\n",
       "1027    0.0  0.0  173.0  0.0  1125.0  613.0  180.0  71.62      2\n",
       "1028    0.0  0.0  173.0  0.0  1125.0  613.0  270.0  74.17      2\n",
       "1029    0.0  0.0  173.0  0.0  1125.0  613.0    3.0  41.64      2\n",
       "\n",
       "[1030 rows x 9 columns]"
      ]
     },
     "execution_count": 8,
     "metadata": {},
     "output_type": "execute_result"
    }
   ],
   "source": [
    "df = make_dataset_concrete()\n",
    "df"
   ]
  },
  {
   "cell_type": "code",
   "execution_count": 9,
   "metadata": {},
   "outputs": [],
   "source": [
    "n_target=25\n",
    "y_feature=\"i\""
   ]
  },
  {
   "cell_type": "code",
   "execution_count": 10,
   "metadata": {},
   "outputs": [],
   "source": [
    "learning_rate = 0.1\n",
    "n_estimators = {'target': 30, 'all': 200, 'source':150}\n",
    "max_depth = 4\n",
    "validation_fraction= 0.2\n",
    "n_iter_no_change= 5\n",
    "tol= 0.1\n",
    "random_state = 0"
   ]
  },
  {
   "cell_type": "code",
   "execution_count": 11,
   "metadata": {},
   "outputs": [
    {
     "name": "stdout",
     "output_type": "stream",
     "text": [
      "gradient boost target : 8.436\n",
      "gradient boost all : 9.999\n",
      "gradient boost source : 13.72\n"
     ]
    }
   ],
   "source": [
    "target_domain = 0\n",
    "\n",
    "target_train = df.query('label==@target_domain').sample(n_target)\n",
    "target_test = df.query('label==@target_domain').drop(index=target_train.index)\n",
    "target_train_X = target_train.drop(columns=[y_feature, 'label'])\n",
    "target_train_y = target_train[y_feature]\n",
    "target_test_X = target_test.drop(columns=[y_feature, 'label']).values\n",
    "target_test_y = target_test[y_feature].values\n",
    "source_X = df.query('label!=@target_domain').drop(columns=[y_feature, 'label'])\n",
    "source_y = df.query('label!=@target_domain')[y_feature]\n",
    "\n",
    "X_train = pd.concat([source_X, target_train_X]).values\n",
    "y_train = pd.concat([source_y, target_train_y]).values\n",
    "sample_size = [source_X.shape[0], target_train_X.shape[0]]\n",
    "\n",
    "\n",
    "# targetのみgradient boost\n",
    "reg_target = GradientBoostingRegressor(\n",
    "                    n_estimators = n_estimators['target'], \n",
    "                    learning_rate=learning_rate,\n",
    "                    max_depth = max_depth,\n",
    "                    random_state = random_state)\n",
    "reg_target.fit(target_train_X.values, target_train_y.values)\n",
    "y_pred_target = reg_target.predict(target_test_X)\n",
    "rmse_target = mean_squared_error(target_test_y, y_pred_target)**0.5\n",
    "\n",
    "# source+target gradient boost\n",
    "reg_all = GradientBoostingRegressor(\n",
    "                    n_estimators = n_estimators[\"all\"], \n",
    "                    learning_rate=learning_rate,\n",
    "                    max_depth = max_depth,\n",
    "                    random_state = random_state)\n",
    "reg_all.fit(X_train, y_train)\n",
    "y_pred_all = reg_all.predict(target_test_X)\n",
    "rmse_all = mean_squared_error(target_test_y, y_pred_all)**0.5\n",
    "\n",
    "# sourceのみgradient boost\n",
    "reg_source = GradientBoostingRegressor(\n",
    "                    n_estimators = n_estimators['source'], \n",
    "                    learning_rate=learning_rate,\n",
    "                    max_depth = max_depth,\n",
    "                    random_state = random_state)\n",
    "reg_source.fit(source_X, source_y)\n",
    "y_pred_source = reg_source.predict(target_test_X)\n",
    "rmse_source = mean_squared_error(target_test_y, y_pred_source)**0.5\n",
    "\n",
    "print('gradient boost target : {:.4}'.format(rmse_target))\n",
    "print('gradient boost all : {:.4}'.format(rmse_all))\n",
    "print('gradient boost source : {:.4}'.format(rmse_source))"
   ]
  },
  {
   "cell_type": "markdown",
   "metadata": {},
   "source": [
    "# 学習済みモデルの取り出し"
   ]
  },
  {
   "cell_type": "code",
   "execution_count": 12,
   "metadata": {},
   "outputs": [
    {
     "name": "stdout",
     "output_type": "stream",
     "text": [
      "30\n",
      "200\n",
      "150\n"
     ]
    }
   ],
   "source": [
    "print(len(reg_target.estimators_))\n",
    "print(len(reg_all.estimators_))\n",
    "print(len(reg_source.estimators_))"
   ]
  },
  {
   "cell_type": "code",
   "execution_count": 13,
   "metadata": {},
   "outputs": [
    {
     "data": {
      "text/plain": [
       "array([[DecisionTreeRegressor(criterion='friedman_mse', max_depth=4,\n",
       "                      random_state=RandomState(MT19937) at 0x20BAFC77840)],\n",
       "       [DecisionTreeRegressor(criterion='friedman_mse', max_depth=4,\n",
       "                      random_state=RandomState(MT19937) at 0x20BAFC77840)],\n",
       "       [DecisionTreeRegressor(criterion='friedman_mse', max_depth=4,\n",
       "                      random_state=RandomState(MT19937) at 0x20BAFC77840)],\n",
       "       [DecisionTreeRegressor(criterion='friedman_mse', max_depth=4,\n",
       "                      random_state=RandomState(MT19937) at 0x20BAFC77840)],\n",
       "       [DecisionTreeRegressor(criterion='friedman_mse', max_depth=4,\n",
       "                      random_state=RandomState(MT19937) at 0x20BAFC77840)],\n",
       "       [DecisionTreeRegressor(criterion='friedman_mse', max_depth=4,\n",
       "                      random_state=RandomState(MT19937) at 0x20BAFC77840)],\n",
       "       [DecisionTreeRegressor(criterion='friedman_mse', max_depth=4,\n",
       "                      random_state=RandomState(MT19937) at 0x20BAFC77840)],\n",
       "       [DecisionTreeRegressor(criterion='friedman_mse', max_depth=4,\n",
       "                      random_state=RandomState(MT19937) at 0x20BAFC77840)],\n",
       "       [DecisionTreeRegressor(criterion='friedman_mse', max_depth=4,\n",
       "                      random_state=RandomState(MT19937) at 0x20BAFC77840)],\n",
       "       [DecisionTreeRegressor(criterion='friedman_mse', max_depth=4,\n",
       "                      random_state=RandomState(MT19937) at 0x20BAFC77840)],\n",
       "       [DecisionTreeRegressor(criterion='friedman_mse', max_depth=4,\n",
       "                      random_state=RandomState(MT19937) at 0x20BAFC77840)],\n",
       "       [DecisionTreeRegressor(criterion='friedman_mse', max_depth=4,\n",
       "                      random_state=RandomState(MT19937) at 0x20BAFC77840)],\n",
       "       [DecisionTreeRegressor(criterion='friedman_mse', max_depth=4,\n",
       "                      random_state=RandomState(MT19937) at 0x20BAFC77840)],\n",
       "       [DecisionTreeRegressor(criterion='friedman_mse', max_depth=4,\n",
       "                      random_state=RandomState(MT19937) at 0x20BAFC77840)],\n",
       "       [DecisionTreeRegressor(criterion='friedman_mse', max_depth=4,\n",
       "                      random_state=RandomState(MT19937) at 0x20BAFC77840)],\n",
       "       [DecisionTreeRegressor(criterion='friedman_mse', max_depth=4,\n",
       "                      random_state=RandomState(MT19937) at 0x20BAFC77840)],\n",
       "       [DecisionTreeRegressor(criterion='friedman_mse', max_depth=4,\n",
       "                      random_state=RandomState(MT19937) at 0x20BAFC77840)],\n",
       "       [DecisionTreeRegressor(criterion='friedman_mse', max_depth=4,\n",
       "                      random_state=RandomState(MT19937) at 0x20BAFC77840)],\n",
       "       [DecisionTreeRegressor(criterion='friedman_mse', max_depth=4,\n",
       "                      random_state=RandomState(MT19937) at 0x20BAFC77840)],\n",
       "       [DecisionTreeRegressor(criterion='friedman_mse', max_depth=4,\n",
       "                      random_state=RandomState(MT19937) at 0x20BAFC77840)],\n",
       "       [DecisionTreeRegressor(criterion='friedman_mse', max_depth=4,\n",
       "                      random_state=RandomState(MT19937) at 0x20BAFC77840)],\n",
       "       [DecisionTreeRegressor(criterion='friedman_mse', max_depth=4,\n",
       "                      random_state=RandomState(MT19937) at 0x20BAFC77840)],\n",
       "       [DecisionTreeRegressor(criterion='friedman_mse', max_depth=4,\n",
       "                      random_state=RandomState(MT19937) at 0x20BAFC77840)],\n",
       "       [DecisionTreeRegressor(criterion='friedman_mse', max_depth=4,\n",
       "                      random_state=RandomState(MT19937) at 0x20BAFC77840)],\n",
       "       [DecisionTreeRegressor(criterion='friedman_mse', max_depth=4,\n",
       "                      random_state=RandomState(MT19937) at 0x20BAFC77840)],\n",
       "       [DecisionTreeRegressor(criterion='friedman_mse', max_depth=4,\n",
       "                      random_state=RandomState(MT19937) at 0x20BAFC77840)],\n",
       "       [DecisionTreeRegressor(criterion='friedman_mse', max_depth=4,\n",
       "                      random_state=RandomState(MT19937) at 0x20BAFC77840)],\n",
       "       [DecisionTreeRegressor(criterion='friedman_mse', max_depth=4,\n",
       "                      random_state=RandomState(MT19937) at 0x20BAFC77840)],\n",
       "       [DecisionTreeRegressor(criterion='friedman_mse', max_depth=4,\n",
       "                      random_state=RandomState(MT19937) at 0x20BAFC77840)],\n",
       "       [DecisionTreeRegressor(criterion='friedman_mse', max_depth=4,\n",
       "                      random_state=RandomState(MT19937) at 0x20BAFC77840)],\n",
       "       [DecisionTreeRegressor(criterion='friedman_mse', max_depth=4,\n",
       "                      random_state=RandomState(MT19937) at 0x20BAFC77840)],\n",
       "       [DecisionTreeRegressor(criterion='friedman_mse', max_depth=4,\n",
       "                      random_state=RandomState(MT19937) at 0x20BAFC77840)],\n",
       "       [DecisionTreeRegressor(criterion='friedman_mse', max_depth=4,\n",
       "                      random_state=RandomState(MT19937) at 0x20BAFC77840)],\n",
       "       [DecisionTreeRegressor(criterion='friedman_mse', max_depth=4,\n",
       "                      random_state=RandomState(MT19937) at 0x20BAFC77840)],\n",
       "       [DecisionTreeRegressor(criterion='friedman_mse', max_depth=4,\n",
       "                      random_state=RandomState(MT19937) at 0x20BAFC77840)],\n",
       "       [DecisionTreeRegressor(criterion='friedman_mse', max_depth=4,\n",
       "                      random_state=RandomState(MT19937) at 0x20BAFC77840)],\n",
       "       [DecisionTreeRegressor(criterion='friedman_mse', max_depth=4,\n",
       "                      random_state=RandomState(MT19937) at 0x20BAFC77840)],\n",
       "       [DecisionTreeRegressor(criterion='friedman_mse', max_depth=4,\n",
       "                      random_state=RandomState(MT19937) at 0x20BAFC77840)],\n",
       "       [DecisionTreeRegressor(criterion='friedman_mse', max_depth=4,\n",
       "                      random_state=RandomState(MT19937) at 0x20BAFC77840)],\n",
       "       [DecisionTreeRegressor(criterion='friedman_mse', max_depth=4,\n",
       "                      random_state=RandomState(MT19937) at 0x20BAFC77840)],\n",
       "       [DecisionTreeRegressor(criterion='friedman_mse', max_depth=4,\n",
       "                      random_state=RandomState(MT19937) at 0x20BAFC77840)],\n",
       "       [DecisionTreeRegressor(criterion='friedman_mse', max_depth=4,\n",
       "                      random_state=RandomState(MT19937) at 0x20BAFC77840)],\n",
       "       [DecisionTreeRegressor(criterion='friedman_mse', max_depth=4,\n",
       "                      random_state=RandomState(MT19937) at 0x20BAFC77840)],\n",
       "       [DecisionTreeRegressor(criterion='friedman_mse', max_depth=4,\n",
       "                      random_state=RandomState(MT19937) at 0x20BAFC77840)],\n",
       "       [DecisionTreeRegressor(criterion='friedman_mse', max_depth=4,\n",
       "                      random_state=RandomState(MT19937) at 0x20BAFC77840)],\n",
       "       [DecisionTreeRegressor(criterion='friedman_mse', max_depth=4,\n",
       "                      random_state=RandomState(MT19937) at 0x20BAFC77840)],\n",
       "       [DecisionTreeRegressor(criterion='friedman_mse', max_depth=4,\n",
       "                      random_state=RandomState(MT19937) at 0x20BAFC77840)],\n",
       "       [DecisionTreeRegressor(criterion='friedman_mse', max_depth=4,\n",
       "                      random_state=RandomState(MT19937) at 0x20BAFC77840)],\n",
       "       [DecisionTreeRegressor(criterion='friedman_mse', max_depth=4,\n",
       "                      random_state=RandomState(MT19937) at 0x20BAFC77840)],\n",
       "       [DecisionTreeRegressor(criterion='friedman_mse', max_depth=4,\n",
       "                      random_state=RandomState(MT19937) at 0x20BAFC77840)],\n",
       "       [DecisionTreeRegressor(criterion='friedman_mse', max_depth=4,\n",
       "                      random_state=RandomState(MT19937) at 0x20BAFC77840)],\n",
       "       [DecisionTreeRegressor(criterion='friedman_mse', max_depth=4,\n",
       "                      random_state=RandomState(MT19937) at 0x20BAFC77840)],\n",
       "       [DecisionTreeRegressor(criterion='friedman_mse', max_depth=4,\n",
       "                      random_state=RandomState(MT19937) at 0x20BAFC77840)],\n",
       "       [DecisionTreeRegressor(criterion='friedman_mse', max_depth=4,\n",
       "                      random_state=RandomState(MT19937) at 0x20BAFC77840)],\n",
       "       [DecisionTreeRegressor(criterion='friedman_mse', max_depth=4,\n",
       "                      random_state=RandomState(MT19937) at 0x20BAFC77840)],\n",
       "       [DecisionTreeRegressor(criterion='friedman_mse', max_depth=4,\n",
       "                      random_state=RandomState(MT19937) at 0x20BAFC77840)],\n",
       "       [DecisionTreeRegressor(criterion='friedman_mse', max_depth=4,\n",
       "                      random_state=RandomState(MT19937) at 0x20BAFC77840)],\n",
       "       [DecisionTreeRegressor(criterion='friedman_mse', max_depth=4,\n",
       "                      random_state=RandomState(MT19937) at 0x20BAFC77840)],\n",
       "       [DecisionTreeRegressor(criterion='friedman_mse', max_depth=4,\n",
       "                      random_state=RandomState(MT19937) at 0x20BAFC77840)],\n",
       "       [DecisionTreeRegressor(criterion='friedman_mse', max_depth=4,\n",
       "                      random_state=RandomState(MT19937) at 0x20BAFC77840)],\n",
       "       [DecisionTreeRegressor(criterion='friedman_mse', max_depth=4,\n",
       "                      random_state=RandomState(MT19937) at 0x20BAFC77840)],\n",
       "       [DecisionTreeRegressor(criterion='friedman_mse', max_depth=4,\n",
       "                      random_state=RandomState(MT19937) at 0x20BAFC77840)],\n",
       "       [DecisionTreeRegressor(criterion='friedman_mse', max_depth=4,\n",
       "                      random_state=RandomState(MT19937) at 0x20BAFC77840)],\n",
       "       [DecisionTreeRegressor(criterion='friedman_mse', max_depth=4,\n",
       "                      random_state=RandomState(MT19937) at 0x20BAFC77840)],\n",
       "       [DecisionTreeRegressor(criterion='friedman_mse', max_depth=4,\n",
       "                      random_state=RandomState(MT19937) at 0x20BAFC77840)],\n",
       "       [DecisionTreeRegressor(criterion='friedman_mse', max_depth=4,\n",
       "                      random_state=RandomState(MT19937) at 0x20BAFC77840)],\n",
       "       [DecisionTreeRegressor(criterion='friedman_mse', max_depth=4,\n",
       "                      random_state=RandomState(MT19937) at 0x20BAFC77840)],\n",
       "       [DecisionTreeRegressor(criterion='friedman_mse', max_depth=4,\n",
       "                      random_state=RandomState(MT19937) at 0x20BAFC77840)],\n",
       "       [DecisionTreeRegressor(criterion='friedman_mse', max_depth=4,\n",
       "                      random_state=RandomState(MT19937) at 0x20BAFC77840)],\n",
       "       [DecisionTreeRegressor(criterion='friedman_mse', max_depth=4,\n",
       "                      random_state=RandomState(MT19937) at 0x20BAFC77840)],\n",
       "       [DecisionTreeRegressor(criterion='friedman_mse', max_depth=4,\n",
       "                      random_state=RandomState(MT19937) at 0x20BAFC77840)],\n",
       "       [DecisionTreeRegressor(criterion='friedman_mse', max_depth=4,\n",
       "                      random_state=RandomState(MT19937) at 0x20BAFC77840)],\n",
       "       [DecisionTreeRegressor(criterion='friedman_mse', max_depth=4,\n",
       "                      random_state=RandomState(MT19937) at 0x20BAFC77840)],\n",
       "       [DecisionTreeRegressor(criterion='friedman_mse', max_depth=4,\n",
       "                      random_state=RandomState(MT19937) at 0x20BAFC77840)],\n",
       "       [DecisionTreeRegressor(criterion='friedman_mse', max_depth=4,\n",
       "                      random_state=RandomState(MT19937) at 0x20BAFC77840)],\n",
       "       [DecisionTreeRegressor(criterion='friedman_mse', max_depth=4,\n",
       "                      random_state=RandomState(MT19937) at 0x20BAFC77840)],\n",
       "       [DecisionTreeRegressor(criterion='friedman_mse', max_depth=4,\n",
       "                      random_state=RandomState(MT19937) at 0x20BAFC77840)],\n",
       "       [DecisionTreeRegressor(criterion='friedman_mse', max_depth=4,\n",
       "                      random_state=RandomState(MT19937) at 0x20BAFC77840)],\n",
       "       [DecisionTreeRegressor(criterion='friedman_mse', max_depth=4,\n",
       "                      random_state=RandomState(MT19937) at 0x20BAFC77840)],\n",
       "       [DecisionTreeRegressor(criterion='friedman_mse', max_depth=4,\n",
       "                      random_state=RandomState(MT19937) at 0x20BAFC77840)],\n",
       "       [DecisionTreeRegressor(criterion='friedman_mse', max_depth=4,\n",
       "                      random_state=RandomState(MT19937) at 0x20BAFC77840)],\n",
       "       [DecisionTreeRegressor(criterion='friedman_mse', max_depth=4,\n",
       "                      random_state=RandomState(MT19937) at 0x20BAFC77840)],\n",
       "       [DecisionTreeRegressor(criterion='friedman_mse', max_depth=4,\n",
       "                      random_state=RandomState(MT19937) at 0x20BAFC77840)],\n",
       "       [DecisionTreeRegressor(criterion='friedman_mse', max_depth=4,\n",
       "                      random_state=RandomState(MT19937) at 0x20BAFC77840)],\n",
       "       [DecisionTreeRegressor(criterion='friedman_mse', max_depth=4,\n",
       "                      random_state=RandomState(MT19937) at 0x20BAFC77840)],\n",
       "       [DecisionTreeRegressor(criterion='friedman_mse', max_depth=4,\n",
       "                      random_state=RandomState(MT19937) at 0x20BAFC77840)],\n",
       "       [DecisionTreeRegressor(criterion='friedman_mse', max_depth=4,\n",
       "                      random_state=RandomState(MT19937) at 0x20BAFC77840)],\n",
       "       [DecisionTreeRegressor(criterion='friedman_mse', max_depth=4,\n",
       "                      random_state=RandomState(MT19937) at 0x20BAFC77840)],\n",
       "       [DecisionTreeRegressor(criterion='friedman_mse', max_depth=4,\n",
       "                      random_state=RandomState(MT19937) at 0x20BAFC77840)],\n",
       "       [DecisionTreeRegressor(criterion='friedman_mse', max_depth=4,\n",
       "                      random_state=RandomState(MT19937) at 0x20BAFC77840)],\n",
       "       [DecisionTreeRegressor(criterion='friedman_mse', max_depth=4,\n",
       "                      random_state=RandomState(MT19937) at 0x20BAFC77840)],\n",
       "       [DecisionTreeRegressor(criterion='friedman_mse', max_depth=4,\n",
       "                      random_state=RandomState(MT19937) at 0x20BAFC77840)],\n",
       "       [DecisionTreeRegressor(criterion='friedman_mse', max_depth=4,\n",
       "                      random_state=RandomState(MT19937) at 0x20BAFC77840)],\n",
       "       [DecisionTreeRegressor(criterion='friedman_mse', max_depth=4,\n",
       "                      random_state=RandomState(MT19937) at 0x20BAFC77840)],\n",
       "       [DecisionTreeRegressor(criterion='friedman_mse', max_depth=4,\n",
       "                      random_state=RandomState(MT19937) at 0x20BAFC77840)],\n",
       "       [DecisionTreeRegressor(criterion='friedman_mse', max_depth=4,\n",
       "                      random_state=RandomState(MT19937) at 0x20BAFC77840)],\n",
       "       [DecisionTreeRegressor(criterion='friedman_mse', max_depth=4,\n",
       "                      random_state=RandomState(MT19937) at 0x20BAFC77840)],\n",
       "       [DecisionTreeRegressor(criterion='friedman_mse', max_depth=4,\n",
       "                      random_state=RandomState(MT19937) at 0x20BAFC77840)],\n",
       "       [DecisionTreeRegressor(criterion='friedman_mse', max_depth=4,\n",
       "                      random_state=RandomState(MT19937) at 0x20BAFC77840)],\n",
       "       [DecisionTreeRegressor(criterion='friedman_mse', max_depth=4,\n",
       "                      random_state=RandomState(MT19937) at 0x20BAFC77840)],\n",
       "       [DecisionTreeRegressor(criterion='friedman_mse', max_depth=4,\n",
       "                      random_state=RandomState(MT19937) at 0x20BAFC77840)],\n",
       "       [DecisionTreeRegressor(criterion='friedman_mse', max_depth=4,\n",
       "                      random_state=RandomState(MT19937) at 0x20BAFC77840)],\n",
       "       [DecisionTreeRegressor(criterion='friedman_mse', max_depth=4,\n",
       "                      random_state=RandomState(MT19937) at 0x20BAFC77840)],\n",
       "       [DecisionTreeRegressor(criterion='friedman_mse', max_depth=4,\n",
       "                      random_state=RandomState(MT19937) at 0x20BAFC77840)],\n",
       "       [DecisionTreeRegressor(criterion='friedman_mse', max_depth=4,\n",
       "                      random_state=RandomState(MT19937) at 0x20BAFC77840)],\n",
       "       [DecisionTreeRegressor(criterion='friedman_mse', max_depth=4,\n",
       "                      random_state=RandomState(MT19937) at 0x20BAFC77840)],\n",
       "       [DecisionTreeRegressor(criterion='friedman_mse', max_depth=4,\n",
       "                      random_state=RandomState(MT19937) at 0x20BAFC77840)],\n",
       "       [DecisionTreeRegressor(criterion='friedman_mse', max_depth=4,\n",
       "                      random_state=RandomState(MT19937) at 0x20BAFC77840)],\n",
       "       [DecisionTreeRegressor(criterion='friedman_mse', max_depth=4,\n",
       "                      random_state=RandomState(MT19937) at 0x20BAFC77840)],\n",
       "       [DecisionTreeRegressor(criterion='friedman_mse', max_depth=4,\n",
       "                      random_state=RandomState(MT19937) at 0x20BAFC77840)],\n",
       "       [DecisionTreeRegressor(criterion='friedman_mse', max_depth=4,\n",
       "                      random_state=RandomState(MT19937) at 0x20BAFC77840)],\n",
       "       [DecisionTreeRegressor(criterion='friedman_mse', max_depth=4,\n",
       "                      random_state=RandomState(MT19937) at 0x20BAFC77840)],\n",
       "       [DecisionTreeRegressor(criterion='friedman_mse', max_depth=4,\n",
       "                      random_state=RandomState(MT19937) at 0x20BAFC77840)],\n",
       "       [DecisionTreeRegressor(criterion='friedman_mse', max_depth=4,\n",
       "                      random_state=RandomState(MT19937) at 0x20BAFC77840)],\n",
       "       [DecisionTreeRegressor(criterion='friedman_mse', max_depth=4,\n",
       "                      random_state=RandomState(MT19937) at 0x20BAFC77840)],\n",
       "       [DecisionTreeRegressor(criterion='friedman_mse', max_depth=4,\n",
       "                      random_state=RandomState(MT19937) at 0x20BAFC77840)],\n",
       "       [DecisionTreeRegressor(criterion='friedman_mse', max_depth=4,\n",
       "                      random_state=RandomState(MT19937) at 0x20BAFC77840)],\n",
       "       [DecisionTreeRegressor(criterion='friedman_mse', max_depth=4,\n",
       "                      random_state=RandomState(MT19937) at 0x20BAFC77840)],\n",
       "       [DecisionTreeRegressor(criterion='friedman_mse', max_depth=4,\n",
       "                      random_state=RandomState(MT19937) at 0x20BAFC77840)],\n",
       "       [DecisionTreeRegressor(criterion='friedman_mse', max_depth=4,\n",
       "                      random_state=RandomState(MT19937) at 0x20BAFC77840)],\n",
       "       [DecisionTreeRegressor(criterion='friedman_mse', max_depth=4,\n",
       "                      random_state=RandomState(MT19937) at 0x20BAFC77840)],\n",
       "       [DecisionTreeRegressor(criterion='friedman_mse', max_depth=4,\n",
       "                      random_state=RandomState(MT19937) at 0x20BAFC77840)],\n",
       "       [DecisionTreeRegressor(criterion='friedman_mse', max_depth=4,\n",
       "                      random_state=RandomState(MT19937) at 0x20BAFC77840)],\n",
       "       [DecisionTreeRegressor(criterion='friedman_mse', max_depth=4,\n",
       "                      random_state=RandomState(MT19937) at 0x20BAFC77840)],\n",
       "       [DecisionTreeRegressor(criterion='friedman_mse', max_depth=4,\n",
       "                      random_state=RandomState(MT19937) at 0x20BAFC77840)],\n",
       "       [DecisionTreeRegressor(criterion='friedman_mse', max_depth=4,\n",
       "                      random_state=RandomState(MT19937) at 0x20BAFC77840)],\n",
       "       [DecisionTreeRegressor(criterion='friedman_mse', max_depth=4,\n",
       "                      random_state=RandomState(MT19937) at 0x20BAFC77840)],\n",
       "       [DecisionTreeRegressor(criterion='friedman_mse', max_depth=4,\n",
       "                      random_state=RandomState(MT19937) at 0x20BAFC77840)],\n",
       "       [DecisionTreeRegressor(criterion='friedman_mse', max_depth=4,\n",
       "                      random_state=RandomState(MT19937) at 0x20BAFC77840)],\n",
       "       [DecisionTreeRegressor(criterion='friedman_mse', max_depth=4,\n",
       "                      random_state=RandomState(MT19937) at 0x20BAFC77840)],\n",
       "       [DecisionTreeRegressor(criterion='friedman_mse', max_depth=4,\n",
       "                      random_state=RandomState(MT19937) at 0x20BAFC77840)],\n",
       "       [DecisionTreeRegressor(criterion='friedman_mse', max_depth=4,\n",
       "                      random_state=RandomState(MT19937) at 0x20BAFC77840)],\n",
       "       [DecisionTreeRegressor(criterion='friedman_mse', max_depth=4,\n",
       "                      random_state=RandomState(MT19937) at 0x20BAFC77840)],\n",
       "       [DecisionTreeRegressor(criterion='friedman_mse', max_depth=4,\n",
       "                      random_state=RandomState(MT19937) at 0x20BAFC77840)],\n",
       "       [DecisionTreeRegressor(criterion='friedman_mse', max_depth=4,\n",
       "                      random_state=RandomState(MT19937) at 0x20BAFC77840)],\n",
       "       [DecisionTreeRegressor(criterion='friedman_mse', max_depth=4,\n",
       "                      random_state=RandomState(MT19937) at 0x20BAFC77840)],\n",
       "       [DecisionTreeRegressor(criterion='friedman_mse', max_depth=4,\n",
       "                      random_state=RandomState(MT19937) at 0x20BAFC77840)],\n",
       "       [DecisionTreeRegressor(criterion='friedman_mse', max_depth=4,\n",
       "                      random_state=RandomState(MT19937) at 0x20BAFC77840)],\n",
       "       [DecisionTreeRegressor(criterion='friedman_mse', max_depth=4,\n",
       "                      random_state=RandomState(MT19937) at 0x20BAFC77840)],\n",
       "       [DecisionTreeRegressor(criterion='friedman_mse', max_depth=4,\n",
       "                      random_state=RandomState(MT19937) at 0x20BAFC77840)],\n",
       "       [DecisionTreeRegressor(criterion='friedman_mse', max_depth=4,\n",
       "                      random_state=RandomState(MT19937) at 0x20BAFC77840)],\n",
       "       [DecisionTreeRegressor(criterion='friedman_mse', max_depth=4,\n",
       "                      random_state=RandomState(MT19937) at 0x20BAFC77840)],\n",
       "       [DecisionTreeRegressor(criterion='friedman_mse', max_depth=4,\n",
       "                      random_state=RandomState(MT19937) at 0x20BAFC77840)],\n",
       "       [DecisionTreeRegressor(criterion='friedman_mse', max_depth=4,\n",
       "                      random_state=RandomState(MT19937) at 0x20BAFC77840)],\n",
       "       [DecisionTreeRegressor(criterion='friedman_mse', max_depth=4,\n",
       "                      random_state=RandomState(MT19937) at 0x20BAFC77840)],\n",
       "       [DecisionTreeRegressor(criterion='friedman_mse', max_depth=4,\n",
       "                      random_state=RandomState(MT19937) at 0x20BAFC77840)],\n",
       "       [DecisionTreeRegressor(criterion='friedman_mse', max_depth=4,\n",
       "                      random_state=RandomState(MT19937) at 0x20BAFC77840)],\n",
       "       [DecisionTreeRegressor(criterion='friedman_mse', max_depth=4,\n",
       "                      random_state=RandomState(MT19937) at 0x20BAFC77840)],\n",
       "       [DecisionTreeRegressor(criterion='friedman_mse', max_depth=4,\n",
       "                      random_state=RandomState(MT19937) at 0x20BAFC77840)],\n",
       "       [DecisionTreeRegressor(criterion='friedman_mse', max_depth=4,\n",
       "                      random_state=RandomState(MT19937) at 0x20BAFC77840)]],\n",
       "      dtype=object)"
      ]
     },
     "execution_count": 13,
     "metadata": {},
     "output_type": "execute_result"
    }
   ],
   "source": [
    "reg_source.estimators_"
   ]
  },
  {
   "cell_type": "code",
   "execution_count": 14,
   "metadata": {},
   "outputs": [
    {
     "data": {
      "text/plain": [
       "array([-19.55432342,   4.21026024, -19.55432342,   4.21026024,\n",
       "         4.21026024,   4.21026024, -19.55432342, -19.55432342,\n",
       "         4.21026024,   4.21026024, -19.55432342, -19.55432342,\n",
       "         4.21026024,   4.21026024, -19.55432342,   4.21026024,\n",
       "         4.21026024,   4.21026024,   4.21026024, -19.55432342,\n",
       "       -19.55432342,   4.21026024,   4.21026024,  -6.0720375 ,\n",
       "        -6.0720375 ,   4.21026024, -19.55432342,   4.21026024,\n",
       "        14.79359624,   4.21026024,  14.79359624,   4.21026024,\n",
       "         4.21026024, -19.55432342,   4.21026024, -19.55432342,\n",
       "         4.21026024,   4.21026024,   4.21026024,   4.21026024,\n",
       "         4.21026024,   4.21026024, -19.55432342,   4.21026024,\n",
       "       -19.55432342,  14.79359624,  14.79359624,   4.21026024,\n",
       "         4.21026024,   4.21026024,   6.05414475,  21.169268  ,\n",
       "         4.21026024,   6.05414475,  -6.0720375 ,   4.21026024,\n",
       "        -6.0720375 ,  -6.0720375 ,  -6.0720375 ,   4.21026024,\n",
       "        21.169268  ,  21.169268  ,   4.21026024,   4.21026024,\n",
       "         4.21026024,  19.03778522,   6.05414475,  -6.0720375 ,\n",
       "        19.03778522,   6.05414475,   4.21026024,   4.21026024,\n",
       "        27.42256708,   4.21026024,   4.21026024,   4.21026024,\n",
       "        27.42256708,  27.42256708,  27.42256708,   6.05414475,\n",
       "         6.05414475,   6.05414475,   6.05414475,  -6.0720375 ,\n",
       "        14.79359624,  14.79359624,  -6.0720375 ,   4.21026024,\n",
       "         4.21026024, -19.55432342,   4.21026024,   4.21026024,\n",
       "       -19.55432342,   4.21026024,   4.21026024,   4.21026024,\n",
       "         4.21026024,   4.21026024,   4.21026024,   4.21026024,\n",
       "         4.21026024,  -6.0720375 ,   4.21026024,  -6.0720375 ,\n",
       "         4.21026024,  -6.0720375 ,   4.21026024,   4.21026024,\n",
       "        -6.0720375 ,   4.21026024,   4.21026024,   4.21026024,\n",
       "         4.21026024,   4.21026024, -19.55432342,  21.169268  ,\n",
       "        -6.0720375 ,  14.79359624, -19.55432342,   4.21026024,\n",
       "        14.79359624,  27.42256708,   4.21026024,  27.42256708,\n",
       "        27.42256708,  21.169268  ,   4.21026024,  27.42256708,\n",
       "         4.21026024,   4.21026024,  21.169268  ,  21.169268  ,\n",
       "         4.21026024,  -6.0720375 ,  -6.0720375 ,  -6.0720375 ,\n",
       "       -19.55432342, -14.72863918, -19.55432342,   6.05414475,\n",
       "        14.79359624,   6.05414475,  14.79359624,   6.05414475,\n",
       "        14.79359624,  -6.0720375 ,   4.21026024,   4.21026024,\n",
       "       -19.55432342, -19.55432342,  -6.0720375 ,  -6.0720375 ,\n",
       "        -6.0720375 , -19.55432342,   4.21026024, -19.55432342,\n",
       "         4.21026024, -14.72863918,  -2.90991669,  14.79359624,\n",
       "        14.79359624,  14.79359624,   4.21026024, -14.72863918,\n",
       "        -2.90991669,  14.79359624,  14.79359624,  14.79359624,\n",
       "        12.50935501,  14.79359624,  14.79359624,  14.79359624,\n",
       "       -14.72863918,  -2.90991669,  14.79359624,  14.79359624,\n",
       "        14.79359624,   4.21026024, -19.55432342,  12.50935501,\n",
       "         6.05414475,   6.05414475,   6.05414475, -19.55432342,\n",
       "       -19.55432342,   4.21026024,   4.21026024, -19.55432342,\n",
       "        14.79359624,  14.79359624, -14.72863918,  -2.90991669,\n",
       "        14.79359624,  14.79359624,  14.79359624, -19.55432342,\n",
       "       -19.55432342,   4.21026024,   4.21026024,   4.21026024,\n",
       "       -19.55432342, -19.55432342,   6.05414475,   6.05414475,\n",
       "         6.05414475,   4.21026024, -19.55432342, -14.72863918,\n",
       "        -2.90991669,  14.79359624,  14.79359624,  14.79359624,\n",
       "       -19.55432342,   4.21026024,   4.21026024, -19.55432342,\n",
       "         4.21026024, -19.55432342,   4.21026024,   4.21026024,\n",
       "         4.21026024,   4.21026024,   4.21026024,   4.21026024,\n",
       "       -14.72863918,  -2.90991669,   6.05414475,   6.05414475,\n",
       "       -14.72863918,  -2.90991669, -14.72863918,  -2.90991669,\n",
       "         6.05414475,   6.05414475,   6.05414475, -19.55432342,\n",
       "         4.21026024,   4.21026024, -19.55432342,   4.21026024,\n",
       "       -19.55432342, -19.55432342, -19.55432342,   6.05414475,\n",
       "         6.05414475, -19.55432342, -19.55432342,   6.05414475,\n",
       "         6.05414475,   6.05414475,   4.21026024,   4.21026024,\n",
       "         4.21026024,   4.21026024, -19.55432342, -19.55432342,\n",
       "         4.21026024, -19.55432342,  -6.0720375 , -19.55432342,\n",
       "       -19.55432342,   4.21026024,   4.21026024,   4.21026024,\n",
       "       -19.55432342, -19.55432342,   4.21026024, -19.55432342,\n",
       "         4.21026024, -19.55432342,   4.21026024, -19.55432342,\n",
       "         4.21026024, -19.55432342,   4.21026024, -14.72863918,\n",
       "        -2.90991669,   6.05414475,   6.05414475, -19.55432342,\n",
       "         4.21026024, -19.55432342,   4.21026024, -19.55432342,\n",
       "       -19.55432342,  -6.0720375 ,  -6.0720375 ,  -6.0720375 ,\n",
       "       -14.72863918,  -2.90991669,   6.05414475,   6.05414475,\n",
       "         6.05414475, -14.72863918,  -2.90991669,   6.05414475,\n",
       "         6.05414475,   6.05414475, -14.72863918,   6.05414475,\n",
       "         6.05414475,   6.05414475, -14.72863918,  -2.90991669,\n",
       "         6.05414475,   6.05414475, -19.55432342, -19.55432342,\n",
       "         4.21026024,   4.21026024, -14.72863918,  -2.90991669,\n",
       "         6.05414475,   6.05414475,   6.05414475, -19.55432342,\n",
       "       -19.55432342])"
      ]
     },
     "execution_count": 14,
     "metadata": {},
     "output_type": "execute_result"
    }
   ],
   "source": [
    "idx = 1\n",
    "model = reg_source.estimators_[idx][0]\n",
    "pred_idx = model.predict(target_test_X)\n",
    "pred_idx"
   ]
  },
  {
   "cell_type": "code",
   "execution_count": 15,
   "metadata": {},
   "outputs": [
    {
     "data": {
      "text/plain": [
       "array([ 2.66971336e+00,  3.78615896e+00,  3.16658383e+00,  1.06166219e+01,\n",
       "        1.54934121e+01,  1.06758918e+01,  1.04376039e+01,  1.14867832e+01,\n",
       "        5.71041382e+00,  1.26652374e+01,  1.32823456e+00,  2.57812903e+00,\n",
       "        6.81444414e+00,  1.01188780e+01,  4.82123151e+00,  1.93620364e+01,\n",
       "        1.93520364e+01,  1.17584723e+01,  1.06334365e+01,  3.77896769e+00,\n",
       "        3.47808953e+00,  1.09468294e+01,  1.30368294e+01,  1.70228632e+01,\n",
       "        1.70228632e+01,  2.56320636e+01,  6.34342997e+00,  1.62546453e+01,\n",
       "        2.36676481e+01,  2.10597886e+01,  2.55276078e+01,  6.05786050e+00,\n",
       "        8.38210700e+00,  3.22948210e-01,  2.08646186e+00, -8.73060355e-01,\n",
       "        2.78215867e+00,  1.85622972e+01,  4.23893669e-01,  1.85622972e+01,\n",
       "        4.23893669e-01,  7.53762364e+00,  6.67429434e+00,  5.61266446e+00,\n",
       "        6.06293100e+00,  1.55145213e+01,  1.55145213e+01,  1.48725349e+01,\n",
       "        1.48625349e+01,  1.68192369e+01,  3.34850938e+01,  3.16678624e+01,\n",
       "        1.68292369e+01,  3.00262257e+01,  1.91904836e+01,  9.04152848e+00,\n",
       "        1.91904836e+01,  2.16619243e+01,  2.16619243e+01,  1.86707859e+01,\n",
       "        1.02622541e+01,  9.92225405e+00,  1.68989306e+01,  1.41504209e+01,\n",
       "        1.38668497e+01,  2.24318480e+01,  2.78898460e+01,  1.25580182e+01,\n",
       "        2.20955989e+01,  2.68382756e+01,  1.25311296e+01,  1.32159055e+01,\n",
       "        1.43093262e+01,  1.46821182e+01,  2.02976959e+01,  1.46821182e+01,\n",
       "        1.43093262e+01,  2.03886622e+01,  2.09682660e+01,  3.50393472e+01,\n",
       "        3.39215036e+01,  3.37345481e+01,  3.50393472e+01,  1.98893875e+01,\n",
       "        2.34259494e+01,  2.27570871e+01,  1.98893875e+01,  1.24804794e+01,\n",
       "        1.33362529e+01,  2.34762841e+00,  6.38906051e+00,  4.67429687e-01,\n",
       "        1.56505605e+00,  1.29478976e+01,  1.09730657e+01,  1.55015841e+01,\n",
       "        1.33362529e+01,  1.09730657e+01,  1.48945472e+01,  2.56657223e+01,\n",
       "        2.56657223e+01,  2.76061338e+01,  2.06749662e+01,  2.25478973e+01,\n",
       "        2.22506034e+01,  2.76061338e+01,  2.06749662e+01,  2.54153554e+01,\n",
       "        2.25478973e+01,  2.54153554e+01,  1.64062404e+01,  1.64062404e+01,\n",
       "        2.17722182e+01,  6.98239226e+00,  3.95258139e+00,  2.31408326e+01,\n",
       "        3.50583633e+01,  1.15468703e+01,  7.05754118e+00,  1.51151532e+01,\n",
       "        1.15468703e+01,  2.00337951e+01,  2.37028912e+01,  2.04344503e+01,\n",
       "        2.25333436e+01,  3.76510909e+00,  3.20529535e+01,  2.26289158e+01,\n",
       "        2.95829535e+01,  2.23971037e+01,  1.68434448e+01,  2.63710287e+01,\n",
       "        2.22277157e+01,  1.81516188e+01,  1.92132409e+01,  2.00110670e+01,\n",
       "        4.65757923e+00,  4.14611785e+00,  2.02488527e+01,  2.67356502e+01,\n",
       "        2.04551594e+00,  1.53024382e+01,  3.61228655e+00,  1.90438061e+01,\n",
       "        5.75028414e+00,  1.89568315e+01,  1.10499000e+01,  1.10399000e+01,\n",
       "       -1.74054358e+00, -4.63640193e+00,  9.42636350e+00,  1.09072883e+01,\n",
       "        9.77915438e+00,  3.82730382e+00,  4.33634329e+00,  4.48143404e+00,\n",
       "        1.08239317e+00,  2.82424958e+00,  4.28385624e+00,  7.43027096e+00,\n",
       "        4.56375156e+00,  4.16909998e+00,  2.27493934e+01,  7.82912240e+00,\n",
       "        4.72884328e+00,  5.42524439e+00,  4.30100170e+00,  5.79899929e+00,\n",
       "        2.22539927e+01,  3.03367876e+01,  2.67320252e+01,  2.31613140e+01,\n",
       "        9.02889143e+00,  4.57945732e+00,  5.58633021e+00,  4.92440857e+00,\n",
       "        2.15136178e+00,  6.03157497e+00,  7.29494449e+00,  2.38702541e+00,\n",
       "        1.74894046e+01,  2.06241705e+01,  2.29036364e+01,  8.31563707e+00,\n",
       "        7.75147095e+00,  1.00736278e+01,  6.91081690e+00, -9.13731556e+00,\n",
       "        1.03360725e+01,  4.72405082e+00,  7.51402096e+00,  1.17481558e+01,\n",
       "        1.46955750e+01,  1.22009515e+01,  1.34161288e+01, -1.85827320e+00,\n",
       "       -6.75645724e+00,  7.93259165e-01, -6.84578689e-01,  1.90584990e+00,\n",
       "        1.13244189e+00,  7.79214773e+00,  1.28717069e+01,  1.41534513e+01,\n",
       "        7.40865518e+00,  1.07081063e+01,  6.61749608e+00,  1.27417711e+01,\n",
       "        1.21383464e+01,  9.60447825e+00,  6.69884621e+00,  4.00237775e+00,\n",
       "        6.17783469e+00,  2.93488178e+00,  6.16520108e+00,  5.09986368e+00,\n",
       "        2.56439936e+01,  4.33335305e+00,  5.35914158e+00,  4.74694970e+00,\n",
       "       -3.75395473e+00,  1.18180662e+00, -1.05779027e+00, -8.51879433e-01,\n",
       "        7.90454002e+00,  8.08249956e+00,  1.17915318e+01,  9.14542653e+00,\n",
       "        5.00902301e+00,  1.18227656e+01,  2.07778322e+00,  8.05069213e+00,\n",
       "        1.15382521e+01,  1.07643605e+01,  1.04506654e+01,  6.85034624e-01,\n",
       "        4.15340185e+00, -1.99120597e-01,  2.52086732e+00,  6.96659811e+00,\n",
       "        3.68843368e+00,  6.47893185e+00,  5.69624909e+00,  1.07452829e+01,\n",
       "        1.31056823e+01,  4.57396862e+00,  2.00668459e+00, -4.98081828e+00,\n",
       "       -4.20144298e+00,  7.48811940e-01, -1.22940344e+00,  2.98518146e+00,\n",
       "        5.08570947e+00,  3.02630007e-01,  2.02850506e+00,  3.69884665e+00,\n",
       "       -6.79167428e+00,  6.87691525e+00,  1.38586328e+01,  2.39284010e+00,\n",
       "        6.90820073e-01,  4.18835487e+00, -2.49969533e-01,  1.88913453e+01,\n",
       "        6.32770785e+00,  8.55451380e+00,  1.95457754e+01,  5.32940966e+00,\n",
       "        9.36649466e+00,  5.09984062e+00,  3.47444497e+00,  3.03353289e+00,\n",
       "       -7.15764976e-01, -6.40095039e-01,  1.15795302e+00, -3.35486136e+00,\n",
       "       -4.59185793e+00, -1.65449888e+00,  2.41412668e+00,  2.92881407e+00,\n",
       "       -1.04439431e+00,  5.91961904e+00, -1.09384434e-02,  9.24864956e-01,\n",
       "        1.02226712e+00,  6.00175657e+00,  5.10243744e+00,  2.72737014e+00,\n",
       "        6.15485663e+00,  7.35405434e+00,  7.20090025e+00,  1.23398594e+00,\n",
       "        6.30591925e+00,  7.03002434e+00,  9.17242802e+00,  2.26681621e+00,\n",
       "        7.78501503e-04,  1.95156408e+00,  2.55878542e+00,  5.55134661e+00,\n",
       "        6.73074369e+00,  1.56885917e+00,  3.64207647e+00,  1.04700500e+01,\n",
       "        5.48275808e+00,  6.59204689e+00,  1.42669000e+00, -3.41403178e+00,\n",
       "       -3.64855959e+00, -3.15491716e+00,  1.27885695e+00,  5.79630806e+00,\n",
       "        1.05939406e+01,  1.07733377e+01,  1.00414532e+01,  5.39919117e+00,\n",
       "        7.96156067e+00])"
      ]
     },
     "execution_count": 15,
     "metadata": {},
     "output_type": "execute_result"
    }
   ],
   "source": [
    "diff = y_pred_source - target_test_y\n",
    "diff"
   ]
  },
  {
   "cell_type": "code",
   "execution_count": 16,
   "metadata": {},
   "outputs": [
    {
     "data": {
      "text/plain": [
       "13085.659818219097"
      ]
     },
     "execution_count": 16,
     "metadata": {},
     "output_type": "execute_result"
    }
   ],
   "source": [
    "np.sum(pred_idx * diff)"
   ]
  },
  {
   "cell_type": "code",
   "execution_count": 17,
   "metadata": {},
   "outputs": [],
   "source": [
    "diffs = np.empty(len(reg_source.estimators_), float)\n",
    "for idx, estimator in enumerate(reg_source.estimators_):\n",
    "    model = estimator[0]\n",
    "    pred_idx = model.predict(target_test_X)\n",
    "    diffs[idx] = np.sum(pred_idx * diff)"
   ]
  },
  {
   "cell_type": "code",
   "execution_count": 18,
   "metadata": {},
   "outputs": [
    {
     "data": {
      "text/plain": [
       "array([ 2.37469652e+04,  1.30856598e+04,  9.85942957e+03,  1.77297113e+04,\n",
       "        1.21063621e+04,  1.93828121e+04,  5.68198177e+03,  1.90278210e+03,\n",
       "        1.37509738e+04, -1.13879054e+03,  2.70286841e+03,  1.41136527e+03,\n",
       "        1.21787550e+04, -1.63737847e+03,  6.21873140e+03,  1.06442105e+02,\n",
       "        5.68829308e+02, -2.79111704e+03,  1.55270930e+03, -4.19585982e+02,\n",
       "       -1.13907600e+03,  1.27631968e+03,  2.81457338e+02, -1.98174732e+03,\n",
       "       -9.38377010e+02, -2.11311710e+02,  2.14266914e+03,  2.55793942e+03,\n",
       "       -1.29938079e+03, -2.53363698e+02, -5.95047661e+02, -3.82343769e+03,\n",
       "        4.45745023e+01,  3.05598059e+02, -1.81923173e+03,  7.72972739e+01,\n",
       "        2.72652749e+02,  3.88306913e+02, -3.12246548e+03,  4.28041862e+03,\n",
       "       -1.01189598e+03,  1.15695864e+03,  2.72513560e+01,  3.78988195e+03,\n",
       "       -1.37233579e+03, -1.67346350e+03, -1.69783470e+02,  9.01837674e+02,\n",
       "        1.37864534e+03, -2.42190104e+03, -1.45500591e+03,  1.30267502e+03,\n",
       "       -2.34483209e+03, -5.70019261e+02, -1.43418800e+03,  3.74369116e+02,\n",
       "       -4.45248674e+02,  7.35816416e+02,  5.80418415e+02, -6.41015486e+02,\n",
       "       -1.94973183e+03,  1.53455183e+03,  1.22751581e+03, -1.64588028e+03,\n",
       "       -2.61676089e+02, -1.22833747e+03, -1.64430261e+03, -7.88961892e+02,\n",
       "       -4.26178110e+02, -6.85782670e+02,  9.02819476e+02, -5.56628959e+02,\n",
       "        1.67781080e+03, -1.33070505e+03, -1.24913475e+03,  1.71075233e+03,\n",
       "        1.02151480e+03, -7.66772567e+02, -4.30563206e+02, -7.72441007e+01,\n",
       "        1.71626388e+02, -1.45595575e+02, -8.65484161e+01, -4.73121629e+01,\n",
       "       -6.35875073e+02,  2.02080881e+02, -1.37943561e+03,  2.43778380e+03,\n",
       "        1.84493544e+03,  3.44562568e+02,  4.36784236e+02,  1.88914968e+03,\n",
       "        6.13186918e+02, -2.69728886e+02, -9.65892363e+01,  1.24668374e+03,\n",
       "       -2.52848133e+02,  3.96051128e+02,  1.43793173e+03,  1.00835346e+02,\n",
       "       -1.58503336e+02, -7.76026793e+02, -3.33118615e+02, -2.73725021e+03,\n",
       "       -2.20341318e+02, -5.11293404e+02, -7.13194818e+02,  3.47139028e+02,\n",
       "        1.10740246e+03, -4.81149015e+02, -2.12223730e+02, -7.36143010e+02,\n",
       "       -6.45197801e+02,  3.75268998e+02, -4.15443792e+02,  7.39576401e+02,\n",
       "       -2.30256321e+03,  5.83714594e+02,  1.50223430e+03, -7.18066125e+02,\n",
       "       -1.24213705e+02, -2.90710254e+02, -2.30150064e+03, -1.57250661e+02,\n",
       "        2.17993844e+02, -5.96168914e+02, -1.29037570e+02,  4.95485202e+02,\n",
       "       -2.07062110e+03, -2.94512531e+02, -9.92882290e+01, -1.67767405e+02,\n",
       "       -2.41717689e+02, -1.48250189e+02,  1.37031299e+01, -7.33615334e+02,\n",
       "        6.73031801e+02,  1.07039353e+03, -6.61403931e+02,  3.87024431e+01,\n",
       "       -7.64605727e+01, -5.39003233e+02, -2.17225899e+02,  6.23237116e+02,\n",
       "       -1.97669019e+02, -4.33505862e+02,  3.65010791e+02,  2.35759275e+02,\n",
       "       -1.43613819e+02,  3.17432355e+02])"
      ]
     },
     "execution_count": 18,
     "metadata": {},
     "output_type": "execute_result"
    }
   ],
   "source": [
    "diffs"
   ]
  },
  {
   "cell_type": "code",
   "execution_count": 19,
   "metadata": {},
   "outputs": [
    {
     "name": "stdout",
     "output_type": "stream",
     "text": [
      "150\n",
      "150\n"
     ]
    },
    {
     "data": {
      "text/plain": [
       "GradientBoostingRegressor(max_depth=4, n_estimators=160, random_state=0)"
      ]
     },
     "execution_count": 19,
     "metadata": {},
     "output_type": "execute_result"
    }
   ],
   "source": [
    "reg_source.fit_domain_adaptation(target_train_X, target_train_y, drop_rate=0.01)"
   ]
  },
  {
   "cell_type": "code",
   "execution_count": 20,
   "metadata": {},
   "outputs": [
    {
     "data": {
      "text/plain": [
       "160"
      ]
     },
     "execution_count": 20,
     "metadata": {},
     "output_type": "execute_result"
    }
   ],
   "source": [
    "len(reg_source.estimators_)"
   ]
  },
  {
   "cell_type": "code",
   "execution_count": 21,
   "metadata": {},
   "outputs": [],
   "source": [
    "pred = reg_source.predict_domain_adaptation(target_test_X)"
   ]
  },
  {
   "cell_type": "code",
   "execution_count": 22,
   "metadata": {},
   "outputs": [
    {
     "name": "stdout",
     "output_type": "stream",
     "text": [
      "gradient boost dart : 12.79\n"
     ]
    }
   ],
   "source": [
    "rmse_dart = mean_squared_error(target_test_y, pred)**0.5\n",
    "print('gradient boost dart : {:.4}'.format(rmse_dart))"
   ]
  },
  {
   "cell_type": "code",
   "execution_count": null,
   "metadata": {},
   "outputs": [],
   "source": []
  },
  {
   "cell_type": "markdown",
   "metadata": {},
   "source": [
    "# early stoppingあり"
   ]
  },
  {
   "cell_type": "code",
   "execution_count": 23,
   "metadata": {},
   "outputs": [
    {
     "name": "stdout",
     "output_type": "stream",
     "text": [
      "gradient boost target : 7.791\n",
      "gradient boost all : 11.0\n",
      "gradient boost source : 15.0\n"
     ]
    }
   ],
   "source": [
    "target_domain = 0\n",
    "\n",
    "target_train = df.query('label==@target_domain').sample(n_target)\n",
    "target_test = df.query('label==@target_domain').drop(index=target_train.index)\n",
    "target_train_X = target_train.drop(columns=[y_feature, 'label'])\n",
    "target_train_y = target_train[y_feature]\n",
    "target_test_X = target_test.drop(columns=[y_feature, 'label']).values\n",
    "target_test_y = target_test[y_feature].values\n",
    "source_X = df.query('label!=@target_domain').drop(columns=[y_feature, 'label'])\n",
    "source_y = df.query('label!=@target_domain')[y_feature]\n",
    "\n",
    "X_train = pd.concat([source_X, target_train_X]).values\n",
    "y_train = pd.concat([source_y, target_train_y]).values\n",
    "sample_size = [source_X.shape[0], target_train_X.shape[0]]\n",
    "\n",
    "\n",
    "# targetのみgradient boost\n",
    "reg_target = GradientBoostingRegressor(\n",
    "                    n_estimators = 1000, \n",
    "                    learning_rate=learning_rate,\n",
    "                    max_depth = max_depth,\n",
    "                    validation_fraction = validation_fraction,\n",
    "                    n_iter_no_change= n_iter_no_change,\n",
    "                    tol= tol,\n",
    "                    random_state = random_state)\n",
    "reg_target.fit(target_train_X.values, target_train_y.values)\n",
    "y_pred_target = reg_target.predict(target_test_X)\n",
    "rmse_target = mean_squared_error(target_test_y, y_pred_target)**0.5\n",
    "\n",
    "# source+target gradient boost\n",
    "reg_all = GradientBoostingRegressor(\n",
    "                    n_estimators = 1000, \n",
    "                    learning_rate=learning_rate,\n",
    "                    max_depth = max_depth,\n",
    "                    validation_fraction = validation_fraction,\n",
    "                    n_iter_no_change= n_iter_no_change,\n",
    "                    tol= tol,\n",
    "                    random_state = random_state)\n",
    "reg_all.fit(X_train, y_train)\n",
    "y_pred_all = reg_all.predict(target_test_X)\n",
    "rmse_all = mean_squared_error(target_test_y, y_pred_all)**0.5\n",
    "\n",
    "# sourceのみgradient boost\n",
    "reg_source = GradientBoostingRegressor(\n",
    "                    n_estimators = 1000, \n",
    "                    learning_rate=learning_rate,\n",
    "                    max_depth = max_depth,\n",
    "                    validation_fraction = validation_fraction,\n",
    "                    n_iter_no_change= n_iter_no_change,\n",
    "                    tol= tol,\n",
    "                    random_state = random_state)\n",
    "reg_source.fit(source_X, source_y)\n",
    "y_pred_source = reg_source.predict(target_test_X)\n",
    "rmse_source = mean_squared_error(target_test_y, y_pred_source)**0.5\n",
    "\n",
    "print('gradient boost target : {:.4}'.format(rmse_target))\n",
    "print('gradient boost all : {:.4}'.format(rmse_all))\n",
    "print('gradient boost source : {:.4}'.format(rmse_source))"
   ]
  },
  {
   "cell_type": "code",
   "execution_count": 24,
   "metadata": {},
   "outputs": [
    {
     "name": "stdout",
     "output_type": "stream",
     "text": [
      "31\n",
      "124\n",
      "155\n"
     ]
    }
   ],
   "source": [
    "print(len(reg_target.estimators_))\n",
    "print(len(reg_all.estimators_))\n",
    "print(len(reg_source.estimators_))"
   ]
  },
  {
   "cell_type": "code",
   "execution_count": 73,
   "metadata": {},
   "outputs": [
    {
     "name": "stdout",
     "output_type": "stream",
     "text": [
      "155\n",
      "155\n"
     ]
    },
    {
     "data": {
      "text/plain": [
       "GradientBoostingRegressor(max_depth=4, n_estimators=165, random_state=0,\n",
       "                          tol=0.1, validation_fraction=0.2)"
      ]
     },
     "execution_count": 73,
     "metadata": {},
     "output_type": "execute_result"
    }
   ],
   "source": [
    "from copy import deepcopy\n",
    "\n",
    "reg_dart = deepcopy(reg_source)\n",
    "reg_dart.fit_domain_adaptation(target_train_X, target_train_y, drop_rate=0.1, n_estimators_add=10)"
   ]
  },
  {
   "cell_type": "code",
   "execution_count": 74,
   "metadata": {},
   "outputs": [
    {
     "name": "stdout",
     "output_type": "stream",
     "text": [
      "gradient boost dart : 11.65\n"
     ]
    }
   ],
   "source": [
    "pred = reg_dart.predict_domain_adaptation(target_test_X)\n",
    "rmse_dart = mean_squared_error(target_test_y, pred)**0.5\n",
    "print('gradient boost dart : {:.4}'.format(rmse_dart))"
   ]
  },
  {
   "cell_type": "code",
   "execution_count": 27,
   "metadata": {},
   "outputs": [
    {
     "name": "stdout",
     "output_type": "stream",
     "text": [
      "155\n",
      "170\n"
     ]
    }
   ],
   "source": [
    "print(len(reg_source.estimators_))\n",
    "print(len(reg_dart.estimators_))"
   ]
  },
  {
   "cell_type": "code",
   "execution_count": 28,
   "metadata": {},
   "outputs": [
    {
     "name": "stdout",
     "output_type": "stream",
     "text": [
      "1000\n",
      "155\n"
     ]
    }
   ],
   "source": [
    "print(reg_source.n_estimators)\n",
    "print(reg_source.n_estimators_)"
   ]
  },
  {
   "cell_type": "code",
   "execution_count": null,
   "metadata": {},
   "outputs": [],
   "source": []
  }
 ],
 "metadata": {
  "kernelspec": {
   "display_name": "Python 3",
   "language": "python",
   "name": "python3"
  },
  "language_info": {
   "codemirror_mode": {
    "name": "ipython",
    "version": 3
   },
   "file_extension": ".py",
   "mimetype": "text/x-python",
   "name": "python",
   "nbconvert_exporter": "python",
   "pygments_lexer": "ipython3",
   "version": "3.8.3"
  }
 },
 "nbformat": 4,
 "nbformat_minor": 4
}
