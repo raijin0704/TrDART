{
 "cells": [
  {
   "cell_type": "code",
   "execution_count": 1,
   "metadata": {},
   "outputs": [],
   "source": [
    "import pandas as pd\n",
    "import numpy as np\n",
    "import matplotlib.pyplot as plt\n",
    "import seaborn as sns"
   ]
  },
  {
   "cell_type": "code",
   "execution_count": 2,
   "metadata": {},
   "outputs": [],
   "source": [
    "from sklearn.preprocessing import OneHotEncoder\n",
    "from sklearn.manifold import TSNE"
   ]
  },
  {
   "cell_type": "code",
   "execution_count": 3,
   "metadata": {},
   "outputs": [],
   "source": [
    "DATASET_DIR = \"../dataset/regression/qsar\"\n",
    "SAVE_NAME = \"qsar_ori.csv\""
   ]
  },
  {
   "cell_type": "code",
   "execution_count": 4,
   "metadata": {},
   "outputs": [
    {
     "data": {
      "text/html": [
       "<div>\n",
       "<style scoped>\n",
       "    .dataframe tbody tr th:only-of-type {\n",
       "        vertical-align: middle;\n",
       "    }\n",
       "\n",
       "    .dataframe tbody tr th {\n",
       "        vertical-align: top;\n",
       "    }\n",
       "\n",
       "    .dataframe thead th {\n",
       "        text-align: right;\n",
       "    }\n",
       "</style>\n",
       "<table border=\"1\" class=\"dataframe\">\n",
       "  <thead>\n",
       "    <tr style=\"text-align: right;\">\n",
       "      <th></th>\n",
       "      <th>CIC0</th>\n",
       "      <th>SM1_Dz(Z)</th>\n",
       "      <th>GATS1i</th>\n",
       "      <th>NdsCH</th>\n",
       "      <th>NdssC</th>\n",
       "      <th>MLOGP</th>\n",
       "      <th>quantitative response</th>\n",
       "    </tr>\n",
       "  </thead>\n",
       "  <tbody>\n",
       "    <tr>\n",
       "      <th>0</th>\n",
       "      <td>3.260</td>\n",
       "      <td>0.829</td>\n",
       "      <td>1.676</td>\n",
       "      <td>0</td>\n",
       "      <td>1</td>\n",
       "      <td>1.453</td>\n",
       "      <td>3.770</td>\n",
       "    </tr>\n",
       "    <tr>\n",
       "      <th>1</th>\n",
       "      <td>2.189</td>\n",
       "      <td>0.580</td>\n",
       "      <td>0.863</td>\n",
       "      <td>0</td>\n",
       "      <td>0</td>\n",
       "      <td>1.348</td>\n",
       "      <td>3.115</td>\n",
       "    </tr>\n",
       "    <tr>\n",
       "      <th>2</th>\n",
       "      <td>2.125</td>\n",
       "      <td>0.638</td>\n",
       "      <td>0.831</td>\n",
       "      <td>0</td>\n",
       "      <td>0</td>\n",
       "      <td>1.348</td>\n",
       "      <td>3.531</td>\n",
       "    </tr>\n",
       "    <tr>\n",
       "      <th>3</th>\n",
       "      <td>3.027</td>\n",
       "      <td>0.331</td>\n",
       "      <td>1.472</td>\n",
       "      <td>1</td>\n",
       "      <td>0</td>\n",
       "      <td>1.807</td>\n",
       "      <td>3.510</td>\n",
       "    </tr>\n",
       "    <tr>\n",
       "      <th>4</th>\n",
       "      <td>2.094</td>\n",
       "      <td>0.827</td>\n",
       "      <td>0.860</td>\n",
       "      <td>0</td>\n",
       "      <td>0</td>\n",
       "      <td>1.886</td>\n",
       "      <td>5.390</td>\n",
       "    </tr>\n",
       "    <tr>\n",
       "      <th>...</th>\n",
       "      <td>...</td>\n",
       "      <td>...</td>\n",
       "      <td>...</td>\n",
       "      <td>...</td>\n",
       "      <td>...</td>\n",
       "      <td>...</td>\n",
       "      <td>...</td>\n",
       "    </tr>\n",
       "    <tr>\n",
       "      <th>903</th>\n",
       "      <td>2.801</td>\n",
       "      <td>0.728</td>\n",
       "      <td>2.226</td>\n",
       "      <td>0</td>\n",
       "      <td>2</td>\n",
       "      <td>0.736</td>\n",
       "      <td>3.109</td>\n",
       "    </tr>\n",
       "    <tr>\n",
       "      <th>904</th>\n",
       "      <td>3.652</td>\n",
       "      <td>0.872</td>\n",
       "      <td>0.867</td>\n",
       "      <td>2</td>\n",
       "      <td>3</td>\n",
       "      <td>3.983</td>\n",
       "      <td>4.040</td>\n",
       "    </tr>\n",
       "    <tr>\n",
       "      <th>905</th>\n",
       "      <td>3.763</td>\n",
       "      <td>0.916</td>\n",
       "      <td>0.878</td>\n",
       "      <td>0</td>\n",
       "      <td>6</td>\n",
       "      <td>2.918</td>\n",
       "      <td>4.818</td>\n",
       "    </tr>\n",
       "    <tr>\n",
       "      <th>906</th>\n",
       "      <td>2.831</td>\n",
       "      <td>1.393</td>\n",
       "      <td>1.077</td>\n",
       "      <td>0</td>\n",
       "      <td>1</td>\n",
       "      <td>0.906</td>\n",
       "      <td>5.317</td>\n",
       "    </tr>\n",
       "    <tr>\n",
       "      <th>907</th>\n",
       "      <td>4.057</td>\n",
       "      <td>1.032</td>\n",
       "      <td>1.183</td>\n",
       "      <td>1</td>\n",
       "      <td>3</td>\n",
       "      <td>4.754</td>\n",
       "      <td>8.201</td>\n",
       "    </tr>\n",
       "  </tbody>\n",
       "</table>\n",
       "<p>908 rows × 7 columns</p>\n",
       "</div>"
      ],
      "text/plain": [
       "      CIC0  SM1_Dz(Z)  GATS1i  NdsCH  NdssC  MLOGP  quantitative response\n",
       "0    3.260      0.829   1.676      0      1  1.453                  3.770\n",
       "1    2.189      0.580   0.863      0      0  1.348                  3.115\n",
       "2    2.125      0.638   0.831      0      0  1.348                  3.531\n",
       "3    3.027      0.331   1.472      1      0  1.807                  3.510\n",
       "4    2.094      0.827   0.860      0      0  1.886                  5.390\n",
       "..     ...        ...     ...    ...    ...    ...                    ...\n",
       "903  2.801      0.728   2.226      0      2  0.736                  3.109\n",
       "904  3.652      0.872   0.867      2      3  3.983                  4.040\n",
       "905  3.763      0.916   0.878      0      6  2.918                  4.818\n",
       "906  2.831      1.393   1.077      0      1  0.906                  5.317\n",
       "907  4.057      1.032   1.183      1      3  4.754                  8.201\n",
       "\n",
       "[908 rows x 7 columns]"
      ]
     },
     "execution_count": 4,
     "metadata": {},
     "output_type": "execute_result"
    }
   ],
   "source": [
    "df = pd.read_csv(f\"{DATASET_DIR}/{SAVE_NAME}\")\n",
    "df"
   ]
  },
  {
   "cell_type": "code",
   "execution_count": 5,
   "metadata": {},
   "outputs": [],
   "source": [
    "y_feature = \"quantitative response\""
   ]
  },
  {
   "cell_type": "code",
   "execution_count": 6,
   "metadata": {},
   "outputs": [
    {
     "data": {
      "text/plain": [
       "GATS1i                  -0.397965\n",
       "NdsCH                    0.172004\n",
       "NdssC                    0.172390\n",
       "CIC0                     0.291854\n",
       "SM1_Dz(Z)                0.410893\n",
       "MLOGP                    0.651664\n",
       "quantitative response    1.000000\n",
       "Name: quantitative response, dtype: float64"
      ]
     },
     "execution_count": 6,
     "metadata": {},
     "output_type": "execute_result"
    }
   ],
   "source": [
    "df.corr().iloc[-1,:].sort_values()"
   ]
  },
  {
   "cell_type": "code",
   "execution_count": 7,
   "metadata": {},
   "outputs": [
    {
     "data": {
      "text/html": [
       "<div>\n",
       "<style scoped>\n",
       "    .dataframe tbody tr th:only-of-type {\n",
       "        vertical-align: middle;\n",
       "    }\n",
       "\n",
       "    .dataframe tbody tr th {\n",
       "        vertical-align: top;\n",
       "    }\n",
       "\n",
       "    .dataframe thead th {\n",
       "        text-align: right;\n",
       "    }\n",
       "</style>\n",
       "<table border=\"1\" class=\"dataframe\">\n",
       "  <thead>\n",
       "    <tr style=\"text-align: right;\">\n",
       "      <th></th>\n",
       "      <th>CIC0</th>\n",
       "      <th>SM1_Dz(Z)</th>\n",
       "      <th>GATS1i</th>\n",
       "      <th>NdsCH</th>\n",
       "      <th>NdssC</th>\n",
       "      <th>MLOGP</th>\n",
       "      <th>quantitative response</th>\n",
       "    </tr>\n",
       "  </thead>\n",
       "  <tbody>\n",
       "    <tr>\n",
       "      <th>CIC0</th>\n",
       "      <td>1.000000</td>\n",
       "      <td>-0.235360</td>\n",
       "      <td>0.147622</td>\n",
       "      <td>0.121341</td>\n",
       "      <td>0.246639</td>\n",
       "      <td>0.463867</td>\n",
       "      <td>0.291854</td>\n",
       "    </tr>\n",
       "    <tr>\n",
       "      <th>SM1_Dz(Z)</th>\n",
       "      <td>-0.235360</td>\n",
       "      <td>1.000000</td>\n",
       "      <td>-0.145967</td>\n",
       "      <td>-0.141401</td>\n",
       "      <td>0.163179</td>\n",
       "      <td>0.200663</td>\n",
       "      <td>0.410893</td>\n",
       "    </tr>\n",
       "    <tr>\n",
       "      <th>GATS1i</th>\n",
       "      <td>0.147622</td>\n",
       "      <td>-0.145967</td>\n",
       "      <td>1.000000</td>\n",
       "      <td>-0.010657</td>\n",
       "      <td>0.092410</td>\n",
       "      <td>-0.450739</td>\n",
       "      <td>-0.397965</td>\n",
       "    </tr>\n",
       "    <tr>\n",
       "      <th>NdsCH</th>\n",
       "      <td>0.121341</td>\n",
       "      <td>-0.141401</td>\n",
       "      <td>-0.010657</td>\n",
       "      <td>1.000000</td>\n",
       "      <td>0.188164</td>\n",
       "      <td>0.048620</td>\n",
       "      <td>0.172004</td>\n",
       "    </tr>\n",
       "    <tr>\n",
       "      <th>NdssC</th>\n",
       "      <td>0.246639</td>\n",
       "      <td>0.163179</td>\n",
       "      <td>0.092410</td>\n",
       "      <td>0.188164</td>\n",
       "      <td>1.000000</td>\n",
       "      <td>0.028499</td>\n",
       "      <td>0.172390</td>\n",
       "    </tr>\n",
       "    <tr>\n",
       "      <th>MLOGP</th>\n",
       "      <td>0.463867</td>\n",
       "      <td>0.200663</td>\n",
       "      <td>-0.450739</td>\n",
       "      <td>0.048620</td>\n",
       "      <td>0.028499</td>\n",
       "      <td>1.000000</td>\n",
       "      <td>0.651664</td>\n",
       "    </tr>\n",
       "    <tr>\n",
       "      <th>quantitative response</th>\n",
       "      <td>0.291854</td>\n",
       "      <td>0.410893</td>\n",
       "      <td>-0.397965</td>\n",
       "      <td>0.172004</td>\n",
       "      <td>0.172390</td>\n",
       "      <td>0.651664</td>\n",
       "      <td>1.000000</td>\n",
       "    </tr>\n",
       "  </tbody>\n",
       "</table>\n",
       "</div>"
      ],
      "text/plain": [
       "                           CIC0  SM1_Dz(Z)    GATS1i     NdsCH     NdssC  \\\n",
       "CIC0                   1.000000  -0.235360  0.147622  0.121341  0.246639   \n",
       "SM1_Dz(Z)             -0.235360   1.000000 -0.145967 -0.141401  0.163179   \n",
       "GATS1i                 0.147622  -0.145967  1.000000 -0.010657  0.092410   \n",
       "NdsCH                  0.121341  -0.141401 -0.010657  1.000000  0.188164   \n",
       "NdssC                  0.246639   0.163179  0.092410  0.188164  1.000000   \n",
       "MLOGP                  0.463867   0.200663 -0.450739  0.048620  0.028499   \n",
       "quantitative response  0.291854   0.410893 -0.397965  0.172004  0.172390   \n",
       "\n",
       "                          MLOGP  quantitative response  \n",
       "CIC0                   0.463867               0.291854  \n",
       "SM1_Dz(Z)              0.200663               0.410893  \n",
       "GATS1i                -0.450739              -0.397965  \n",
       "NdsCH                  0.048620               0.172004  \n",
       "NdssC                  0.028499               0.172390  \n",
       "MLOGP                  1.000000               0.651664  \n",
       "quantitative response  0.651664               1.000000  "
      ]
     },
     "execution_count": 7,
     "metadata": {},
     "output_type": "execute_result"
    }
   ],
   "source": [
    "df.corr()"
   ]
  },
  {
   "cell_type": "code",
   "execution_count": 8,
   "metadata": {},
   "outputs": [
    {
     "data": {
      "text/plain": [
       "0.223    135\n",
       "0.134     74\n",
       "0.405     69\n",
       "0.331     39\n",
       "0.000     36\n",
       "        ... \n",
       "0.889      1\n",
       "1.374      1\n",
       "1.336      1\n",
       "1.477      1\n",
       "1.098      1\n",
       "Name: SM1_Dz(Z), Length: 186, dtype: int64"
      ]
     },
     "execution_count": 8,
     "metadata": {},
     "output_type": "execute_result"
    }
   ],
   "source": [
    "df[\"SM1_Dz(Z)\"].value_counts()"
   ]
  },
  {
   "cell_type": "code",
   "execution_count": 9,
   "metadata": {},
   "outputs": [
    {
     "data": {
      "text/plain": [
       "0    306\n",
       "1    304\n",
       "2    298\n",
       "Name: SM1_Dz(Z), dtype: int64"
      ]
     },
     "execution_count": 9,
     "metadata": {},
     "output_type": "execute_result"
    }
   ],
   "source": [
    "pd.qcut(df[\"SM1_Dz(Z)\"], 3, labels=['0', '1', '2']).value_counts()"
   ]
  },
  {
   "cell_type": "code",
   "execution_count": 16,
   "metadata": {},
   "outputs": [
    {
     "data": {
      "text/plain": [
       "3.5    384\n",
       "7.0    383\n",
       "Name: Overall Height, dtype: int64"
      ]
     },
     "execution_count": 16,
     "metadata": {},
     "output_type": "execute_result"
    }
   ],
   "source": [
    "df[\"Overall Height\"].value_counts()"
   ]
  },
  {
   "cell_type": "code",
   "execution_count": 17,
   "metadata": {},
   "outputs": [
    {
     "data": {
      "text/plain": [
       "0.90    64\n",
       "0.79    64\n",
       "0.71    64\n",
       "0.66    64\n",
       "0.64    64\n",
       "0.86    64\n",
       "0.76    64\n",
       "0.74    64\n",
       "0.82    64\n",
       "0.62    64\n",
       "0.69    64\n",
       "0.98    63\n",
       "Name: Relative Compactness, dtype: int64"
      ]
     },
     "execution_count": 17,
     "metadata": {},
     "output_type": "execute_result"
    }
   ],
   "source": [
    "df[\"Relative Compactness\"].value_counts()"
   ]
  },
  {
   "cell_type": "code",
   "execution_count": 18,
   "metadata": {},
   "outputs": [
    {
     "data": {
      "text/plain": [
       "1    256\n",
       "0    256\n",
       "2    255\n",
       "Name: Relative Compactness, dtype: int64"
      ]
     },
     "execution_count": 18,
     "metadata": {},
     "output_type": "execute_result"
    }
   ],
   "source": [
    "pd.qcut(df[\"Relative Compactness\"], 3, labels=['0', '1', '2']).value_counts()"
   ]
  }
 ],
 "metadata": {
  "kernelspec": {
   "display_name": "Python 3",
   "language": "python",
   "name": "python3"
  },
  "language_info": {
   "codemirror_mode": {
    "name": "ipython",
    "version": 3
   },
   "file_extension": ".py",
   "mimetype": "text/x-python",
   "name": "python",
   "nbconvert_exporter": "python",
   "pygments_lexer": "ipython3",
   "version": "3.7.8"
  }
 },
 "nbformat": 4,
 "nbformat_minor": 4
}
